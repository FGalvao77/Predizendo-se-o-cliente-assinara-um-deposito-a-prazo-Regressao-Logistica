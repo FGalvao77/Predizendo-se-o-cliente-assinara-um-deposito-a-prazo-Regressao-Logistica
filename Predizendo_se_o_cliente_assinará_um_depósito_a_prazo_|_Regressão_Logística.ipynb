{
  "nbformat": 4,
  "nbformat_minor": 0,
  "metadata": {
    "colab": {
      "name": "Predizendo se o cliente assinará um depósito a prazo | Regressão Logística.ipynb",
      "provenance": [],
      "collapsed_sections": [],
      "authorship_tag": "ABX9TyNQN2jRG5WAJ6X7sBDjeLVq",
      "include_colab_link": true
    },
    "kernelspec": {
      "name": "python3",
      "display_name": "Python 3"
    },
    "language_info": {
      "name": "python"
    }
  },
  "cells": [
    {
      "cell_type": "markdown",
      "metadata": {
        "id": "view-in-github",
        "colab_type": "text"
      },
      "source": [
        "<a href=\"https://colab.research.google.com/github/FGalvao77/Predizendo-se-o-cliente-assinara-um-deposito-a-prazo-Regressao-Logistica/blob/main/Predizendo_se_o_cliente_assinar%C3%A1_um_dep%C3%B3sito_a_prazo_%7C_Regress%C3%A3o_Log%C3%ADstica.ipynb\" target=\"_parent\"><img src=\"https://colab.research.google.com/assets/colab-badge.svg\" alt=\"Open In Colab\"/></a>"
      ]
    },
    {
      "cell_type": "markdown",
      "source": [
        "# **Predizendo se o cliente assinará um depósito a prazo | Regressão Logística**\n",
        "\n",
        "---\n",
        "\n"
      ],
      "metadata": {
        "id": "-D-Qf5BNAe2m"
      }
    },
    {
      "cell_type": "markdown",
      "source": [
        "**Regressão logística** é um algoritmo de classificação de aprendizado de máquina usado para prever a probabilidade de uma variável dependente categórica. Na regressão logística, a variável dependente é uma variável binária que contém dados codificados como 1 (sim, sucesso, etc.) ou 0 (não, falha, etc.). Em outras palavras, o modelo de regressão logística prevê P (Y = 1) em função de X."
      ],
      "metadata": {
        "id": "Wd662NkDAlan"
      }
    },
    {
      "cell_type": "markdown",
      "source": [
        "**Premissas da regressão logística**\n",
        "\n",
        "- A regressão logística binária requer que a variável dependente seja binária.\n",
        "- Para uma regressão binária, o nível de fator 1 da variável dependente deve representar o resultado desejado.\n",
        "- Apenas as variáveis ​​significativas devem ser incluídas.\n",
        "- As variáveis ​​independentes devem ser independentes umas das outras. Ou seja, o modelo deve ter pouca ou nenhuma multicolinearidade.\n",
        "- As variáveis ​​independentes são linearmente relacionadas às chances de log.\n",
        "- A regressão logística requer tamanhos de amostra bastante grandes."
      ],
      "metadata": {
        "id": "ziQy_yOFLbOU"
      }
    },
    {
      "cell_type": "markdown",
      "source": [
        "**Conjunto de dados**\n",
        "\n",
        "O conjunto de dados provém do repositório [UCI Machine Learning](https://archive.ics.uci.edu/ml/index.php) e está relacionado com campanhas de marketing direto (chamadas telefónicas) de uma instituição bancária portuguesa. O objetivo da classificação é prever se o cliente assinará (1/0) um depósito a prazo (variável y).<br>\n",
        "O conjunto de dados pode ser baixado no link abaixo."
      ],
      "metadata": {
        "id": "6okb2XnYLqPf"
      }
    },
    {
      "cell_type": "markdown",
      "source": [
        "- conjunto de dados:\n",
        " - https://archive.ics.uci.edu/ml/datasets/bank+marketing"
      ],
      "metadata": {
        "id": "iIKZoK5bOlVM"
      }
    },
    {
      "cell_type": "code",
      "execution_count": 1,
      "metadata": {
        "colab": {
          "base_uri": "https://localhost:8080/"
        },
        "id": "T8KyGm__AEgu",
        "outputId": "a2d4dbe5-3515-46d0-82b9-67633d8d5418"
      },
      "outputs": [
        {
          "output_type": "stream",
          "name": "stdout",
          "text": [
            "--2021-12-23 18:54:47--  https://archive.ics.uci.edu/ml/machine-learning-databases/00222/bank-additional.zip\n",
            "Resolving archive.ics.uci.edu (archive.ics.uci.edu)... 128.195.10.252\n",
            "Connecting to archive.ics.uci.edu (archive.ics.uci.edu)|128.195.10.252|:443... connected.\n",
            "HTTP request sent, awaiting response... 200 OK\n",
            "Length: 444572 (434K) [application/x-httpd-php]\n",
            "Saving to: ‘bank-additional.zip’\n",
            "\n",
            "bank-additional.zip 100%[===================>] 434.15K  1.33MB/s    in 0.3s    \n",
            "\n",
            "2021-12-23 18:54:48 (1.33 MB/s) - ‘bank-additional.zip’ saved [444572/444572]\n",
            "\n"
          ]
        }
      ],
      "source": [
        "# importando o arquivo do conjunto de dados\n",
        "!wget https://archive.ics.uci.edu/ml/machine-learning-databases/00222/bank-additional.zip"
      ]
    },
    {
      "cell_type": "code",
      "source": [
        "# descompactando o arquivo\n",
        "!unzip bank-additional.zip"
      ],
      "metadata": {
        "colab": {
          "base_uri": "https://localhost:8080/"
        },
        "id": "ascTD-TqAij2",
        "outputId": "f2dd3a2f-b03a-4a11-c92f-3e1f64995722"
      },
      "execution_count": 2,
      "outputs": [
        {
          "output_type": "stream",
          "name": "stdout",
          "text": [
            "Archive:  bank-additional.zip\n",
            "   creating: bank-additional/\n",
            "  inflating: bank-additional/.DS_Store  \n",
            "   creating: __MACOSX/\n",
            "   creating: __MACOSX/bank-additional/\n",
            "  inflating: __MACOSX/bank-additional/._.DS_Store  \n",
            "  inflating: bank-additional/.Rhistory  \n",
            "  inflating: bank-additional/bank-additional-full.csv  \n",
            "  inflating: bank-additional/bank-additional-names.txt  \n",
            "  inflating: bank-additional/bank-additional.csv  \n",
            "  inflating: __MACOSX/._bank-additional  \n"
          ]
        }
      ]
    },
    {
      "cell_type": "markdown",
      "source": [
        "> Note que, temos uma pasta principal com 3 arquivos e, desses utilizaremos o `bank-additional-full.csv` para esse desafio."
      ],
      "metadata": {
        "id": "37behiSW-Y4y"
      }
    },
    {
      "cell_type": "code",
      "source": [
        "# visualizando o conjunto de dados de interesse\n",
        "!head /content/bank-additional/bank-additional-full.csv"
      ],
      "metadata": {
        "colab": {
          "base_uri": "https://localhost:8080/"
        },
        "id": "lPDYy-7xAiSi",
        "outputId": "d2750887-36c3-4032-9e36-814d6adf8167"
      },
      "execution_count": 5,
      "outputs": [
        {
          "output_type": "stream",
          "name": "stdout",
          "text": [
            "\"age\";\"job\";\"marital\";\"education\";\"default\";\"housing\";\"loan\";\"contact\";\"month\";\"day_of_week\";\"duration\";\"campaign\";\"pdays\";\"previous\";\"poutcome\";\"emp.var.rate\";\"cons.price.idx\";\"cons.conf.idx\";\"euribor3m\";\"nr.employed\";\"y\"\r\n",
            "56;\"housemaid\";\"married\";\"basic.4y\";\"no\";\"no\";\"no\";\"telephone\";\"may\";\"mon\";261;1;999;0;\"nonexistent\";1.1;93.994;-36.4;4.857;5191;\"no\"\r\n",
            "57;\"services\";\"married\";\"high.school\";\"unknown\";\"no\";\"no\";\"telephone\";\"may\";\"mon\";149;1;999;0;\"nonexistent\";1.1;93.994;-36.4;4.857;5191;\"no\"\r\n",
            "37;\"services\";\"married\";\"high.school\";\"no\";\"yes\";\"no\";\"telephone\";\"may\";\"mon\";226;1;999;0;\"nonexistent\";1.1;93.994;-36.4;4.857;5191;\"no\"\r\n",
            "40;\"admin.\";\"married\";\"basic.6y\";\"no\";\"no\";\"no\";\"telephone\";\"may\";\"mon\";151;1;999;0;\"nonexistent\";1.1;93.994;-36.4;4.857;5191;\"no\"\r\n",
            "56;\"services\";\"married\";\"high.school\";\"no\";\"no\";\"yes\";\"telephone\";\"may\";\"mon\";307;1;999;0;\"nonexistent\";1.1;93.994;-36.4;4.857;5191;\"no\"\r\n",
            "45;\"services\";\"married\";\"basic.9y\";\"unknown\";\"no\";\"no\";\"telephone\";\"may\";\"mon\";198;1;999;0;\"nonexistent\";1.1;93.994;-36.4;4.857;5191;\"no\"\r\n",
            "59;\"admin.\";\"married\";\"professional.course\";\"no\";\"no\";\"no\";\"telephone\";\"may\";\"mon\";139;1;999;0;\"nonexistent\";1.1;93.994;-36.4;4.857;5191;\"no\"\r\n",
            "41;\"blue-collar\";\"married\";\"unknown\";\"unknown\";\"no\";\"no\";\"telephone\";\"may\";\"mon\";217;1;999;0;\"nonexistent\";1.1;93.994;-36.4;4.857;5191;\"no\"\r\n",
            "24;\"technician\";\"single\";\"professional.course\";\"no\";\"yes\";\"no\";\"telephone\";\"may\";\"mon\";380;1;999;0;\"nonexistent\";1.1;93.994;-36.4;4.857;5191;\"no\"\r\n"
          ]
        }
      ]
    },
    {
      "cell_type": "markdown",
      "source": [
        "## **Carregando o conjunto de dados**"
      ],
      "metadata": {
        "id": "wCIHQiAl_Ue_"
      }
    },
    {
      "cell_type": "code",
      "source": [
        "# importando biblioteca para ignorar \"alertas\"\n",
        "import warnings\n",
        "warnings.filterwarnings('ignore')"
      ],
      "metadata": {
        "id": "SbRx46ImAiPl"
      },
      "execution_count": 6,
      "outputs": []
    },
    {
      "cell_type": "code",
      "source": [
        "# importando bibliotecas para modelagem (manipulaçã0/matemática) de dados\n",
        "import pandas as pd\n",
        "import numpy as np"
      ],
      "metadata": {
        "id": "0u6yebd0AiMa"
      },
      "execution_count": 7,
      "outputs": []
    },
    {
      "cell_type": "code",
      "source": [
        "# configurando a quantidade de casas decimais que serão exibidas\n",
        "pd.options.display.float_format='{:,.3f}'.format"
      ],
      "metadata": {
        "id": "HUWA9Jt7ESox"
      },
      "execution_count": 8,
      "outputs": []
    },
    {
      "cell_type": "code",
      "source": [
        "# instanciando o conjunto de dados na variável \"df\"\n",
        "df = pd.read_csv('/content/bank-additional/bank-additional-full.csv', sep=';')\n",
        "df.head()"
      ],
      "metadata": {
        "colab": {
          "base_uri": "https://localhost:8080/",
          "height": 270
        },
        "id": "HOxw7WPjAiJp",
        "outputId": "91c97362-cd26-49a3-b513-6d7ffbfc141d"
      },
      "execution_count": 9,
      "outputs": [
        {
          "output_type": "execute_result",
          "data": {
            "text/html": [
              "\n",
              "  <div id=\"df-daf18f44-2e8b-4e66-be0e-a6c1beb0788a\">\n",
              "    <div class=\"colab-df-container\">\n",
              "      <div>\n",
              "<style scoped>\n",
              "    .dataframe tbody tr th:only-of-type {\n",
              "        vertical-align: middle;\n",
              "    }\n",
              "\n",
              "    .dataframe tbody tr th {\n",
              "        vertical-align: top;\n",
              "    }\n",
              "\n",
              "    .dataframe thead th {\n",
              "        text-align: right;\n",
              "    }\n",
              "</style>\n",
              "<table border=\"1\" class=\"dataframe\">\n",
              "  <thead>\n",
              "    <tr style=\"text-align: right;\">\n",
              "      <th></th>\n",
              "      <th>age</th>\n",
              "      <th>job</th>\n",
              "      <th>marital</th>\n",
              "      <th>education</th>\n",
              "      <th>default</th>\n",
              "      <th>housing</th>\n",
              "      <th>loan</th>\n",
              "      <th>contact</th>\n",
              "      <th>month</th>\n",
              "      <th>day_of_week</th>\n",
              "      <th>duration</th>\n",
              "      <th>campaign</th>\n",
              "      <th>pdays</th>\n",
              "      <th>previous</th>\n",
              "      <th>poutcome</th>\n",
              "      <th>emp.var.rate</th>\n",
              "      <th>cons.price.idx</th>\n",
              "      <th>cons.conf.idx</th>\n",
              "      <th>euribor3m</th>\n",
              "      <th>nr.employed</th>\n",
              "      <th>y</th>\n",
              "    </tr>\n",
              "  </thead>\n",
              "  <tbody>\n",
              "    <tr>\n",
              "      <th>0</th>\n",
              "      <td>56</td>\n",
              "      <td>housemaid</td>\n",
              "      <td>married</td>\n",
              "      <td>basic.4y</td>\n",
              "      <td>no</td>\n",
              "      <td>no</td>\n",
              "      <td>no</td>\n",
              "      <td>telephone</td>\n",
              "      <td>may</td>\n",
              "      <td>mon</td>\n",
              "      <td>261</td>\n",
              "      <td>1</td>\n",
              "      <td>999</td>\n",
              "      <td>0</td>\n",
              "      <td>nonexistent</td>\n",
              "      <td>1.100</td>\n",
              "      <td>93.994</td>\n",
              "      <td>-36.400</td>\n",
              "      <td>4.857</td>\n",
              "      <td>5,191.000</td>\n",
              "      <td>no</td>\n",
              "    </tr>\n",
              "    <tr>\n",
              "      <th>1</th>\n",
              "      <td>57</td>\n",
              "      <td>services</td>\n",
              "      <td>married</td>\n",
              "      <td>high.school</td>\n",
              "      <td>unknown</td>\n",
              "      <td>no</td>\n",
              "      <td>no</td>\n",
              "      <td>telephone</td>\n",
              "      <td>may</td>\n",
              "      <td>mon</td>\n",
              "      <td>149</td>\n",
              "      <td>1</td>\n",
              "      <td>999</td>\n",
              "      <td>0</td>\n",
              "      <td>nonexistent</td>\n",
              "      <td>1.100</td>\n",
              "      <td>93.994</td>\n",
              "      <td>-36.400</td>\n",
              "      <td>4.857</td>\n",
              "      <td>5,191.000</td>\n",
              "      <td>no</td>\n",
              "    </tr>\n",
              "    <tr>\n",
              "      <th>2</th>\n",
              "      <td>37</td>\n",
              "      <td>services</td>\n",
              "      <td>married</td>\n",
              "      <td>high.school</td>\n",
              "      <td>no</td>\n",
              "      <td>yes</td>\n",
              "      <td>no</td>\n",
              "      <td>telephone</td>\n",
              "      <td>may</td>\n",
              "      <td>mon</td>\n",
              "      <td>226</td>\n",
              "      <td>1</td>\n",
              "      <td>999</td>\n",
              "      <td>0</td>\n",
              "      <td>nonexistent</td>\n",
              "      <td>1.100</td>\n",
              "      <td>93.994</td>\n",
              "      <td>-36.400</td>\n",
              "      <td>4.857</td>\n",
              "      <td>5,191.000</td>\n",
              "      <td>no</td>\n",
              "    </tr>\n",
              "    <tr>\n",
              "      <th>3</th>\n",
              "      <td>40</td>\n",
              "      <td>admin.</td>\n",
              "      <td>married</td>\n",
              "      <td>basic.6y</td>\n",
              "      <td>no</td>\n",
              "      <td>no</td>\n",
              "      <td>no</td>\n",
              "      <td>telephone</td>\n",
              "      <td>may</td>\n",
              "      <td>mon</td>\n",
              "      <td>151</td>\n",
              "      <td>1</td>\n",
              "      <td>999</td>\n",
              "      <td>0</td>\n",
              "      <td>nonexistent</td>\n",
              "      <td>1.100</td>\n",
              "      <td>93.994</td>\n",
              "      <td>-36.400</td>\n",
              "      <td>4.857</td>\n",
              "      <td>5,191.000</td>\n",
              "      <td>no</td>\n",
              "    </tr>\n",
              "    <tr>\n",
              "      <th>4</th>\n",
              "      <td>56</td>\n",
              "      <td>services</td>\n",
              "      <td>married</td>\n",
              "      <td>high.school</td>\n",
              "      <td>no</td>\n",
              "      <td>no</td>\n",
              "      <td>yes</td>\n",
              "      <td>telephone</td>\n",
              "      <td>may</td>\n",
              "      <td>mon</td>\n",
              "      <td>307</td>\n",
              "      <td>1</td>\n",
              "      <td>999</td>\n",
              "      <td>0</td>\n",
              "      <td>nonexistent</td>\n",
              "      <td>1.100</td>\n",
              "      <td>93.994</td>\n",
              "      <td>-36.400</td>\n",
              "      <td>4.857</td>\n",
              "      <td>5,191.000</td>\n",
              "      <td>no</td>\n",
              "    </tr>\n",
              "  </tbody>\n",
              "</table>\n",
              "</div>\n",
              "      <button class=\"colab-df-convert\" onclick=\"convertToInteractive('df-daf18f44-2e8b-4e66-be0e-a6c1beb0788a')\"\n",
              "              title=\"Convert this dataframe to an interactive table.\"\n",
              "              style=\"display:none;\">\n",
              "        \n",
              "  <svg xmlns=\"http://www.w3.org/2000/svg\" height=\"24px\"viewBox=\"0 0 24 24\"\n",
              "       width=\"24px\">\n",
              "    <path d=\"M0 0h24v24H0V0z\" fill=\"none\"/>\n",
              "    <path d=\"M18.56 5.44l.94 2.06.94-2.06 2.06-.94-2.06-.94-.94-2.06-.94 2.06-2.06.94zm-11 1L8.5 8.5l.94-2.06 2.06-.94-2.06-.94L8.5 2.5l-.94 2.06-2.06.94zm10 10l.94 2.06.94-2.06 2.06-.94-2.06-.94-.94-2.06-.94 2.06-2.06.94z\"/><path d=\"M17.41 7.96l-1.37-1.37c-.4-.4-.92-.59-1.43-.59-.52 0-1.04.2-1.43.59L10.3 9.45l-7.72 7.72c-.78.78-.78 2.05 0 2.83L4 21.41c.39.39.9.59 1.41.59.51 0 1.02-.2 1.41-.59l7.78-7.78 2.81-2.81c.8-.78.8-2.07 0-2.86zM5.41 20L4 18.59l7.72-7.72 1.47 1.35L5.41 20z\"/>\n",
              "  </svg>\n",
              "      </button>\n",
              "      \n",
              "  <style>\n",
              "    .colab-df-container {\n",
              "      display:flex;\n",
              "      flex-wrap:wrap;\n",
              "      gap: 12px;\n",
              "    }\n",
              "\n",
              "    .colab-df-convert {\n",
              "      background-color: #E8F0FE;\n",
              "      border: none;\n",
              "      border-radius: 50%;\n",
              "      cursor: pointer;\n",
              "      display: none;\n",
              "      fill: #1967D2;\n",
              "      height: 32px;\n",
              "      padding: 0 0 0 0;\n",
              "      width: 32px;\n",
              "    }\n",
              "\n",
              "    .colab-df-convert:hover {\n",
              "      background-color: #E2EBFA;\n",
              "      box-shadow: 0px 1px 2px rgba(60, 64, 67, 0.3), 0px 1px 3px 1px rgba(60, 64, 67, 0.15);\n",
              "      fill: #174EA6;\n",
              "    }\n",
              "\n",
              "    [theme=dark] .colab-df-convert {\n",
              "      background-color: #3B4455;\n",
              "      fill: #D2E3FC;\n",
              "    }\n",
              "\n",
              "    [theme=dark] .colab-df-convert:hover {\n",
              "      background-color: #434B5C;\n",
              "      box-shadow: 0px 1px 3px 1px rgba(0, 0, 0, 0.15);\n",
              "      filter: drop-shadow(0px 1px 2px rgba(0, 0, 0, 0.3));\n",
              "      fill: #FFFFFF;\n",
              "    }\n",
              "  </style>\n",
              "\n",
              "      <script>\n",
              "        const buttonEl =\n",
              "          document.querySelector('#df-daf18f44-2e8b-4e66-be0e-a6c1beb0788a button.colab-df-convert');\n",
              "        buttonEl.style.display =\n",
              "          google.colab.kernel.accessAllowed ? 'block' : 'none';\n",
              "\n",
              "        async function convertToInteractive(key) {\n",
              "          const element = document.querySelector('#df-daf18f44-2e8b-4e66-be0e-a6c1beb0788a');\n",
              "          const dataTable =\n",
              "            await google.colab.kernel.invokeFunction('convertToInteractive',\n",
              "                                                     [key], {});\n",
              "          if (!dataTable) return;\n",
              "\n",
              "          const docLinkHtml = 'Like what you see? Visit the ' +\n",
              "            '<a target=\"_blank\" href=https://colab.research.google.com/notebooks/data_table.ipynb>data table notebook</a>'\n",
              "            + ' to learn more about interactive tables.';\n",
              "          element.innerHTML = '';\n",
              "          dataTable['output_type'] = 'display_data';\n",
              "          await google.colab.output.renderOutput(dataTable, element);\n",
              "          const docLink = document.createElement('div');\n",
              "          docLink.innerHTML = docLinkHtml;\n",
              "          element.appendChild(docLink);\n",
              "        }\n",
              "      </script>\n",
              "    </div>\n",
              "  </div>\n",
              "  "
            ],
            "text/plain": [
              "   age        job  marital  ... euribor3m nr.employed   y\n",
              "0   56  housemaid  married  ...     4.857   5,191.000  no\n",
              "1   57   services  married  ...     4.857   5,191.000  no\n",
              "2   37   services  married  ...     4.857   5,191.000  no\n",
              "3   40     admin.  married  ...     4.857   5,191.000  no\n",
              "4   56   services  married  ...     4.857   5,191.000  no\n",
              "\n",
              "[5 rows x 21 columns]"
            ]
          },
          "metadata": {},
          "execution_count": 9
        }
      ]
    },
    {
      "cell_type": "markdown",
      "source": [
        "## **Exploração e Visualização dos dados**"
      ],
      "metadata": {
        "id": "_cg0AE5wNpGe"
      }
    },
    {
      "cell_type": "code",
      "source": [
        "# dimensão do conjunto de dados\n",
        "df.shape    # linhas e colunas"
      ],
      "metadata": {
        "colab": {
          "base_uri": "https://localhost:8080/"
        },
        "id": "PhpWqz1QAiGk",
        "outputId": "9c162b69-309c-4634-cb6c-bab80f633e5b"
      },
      "execution_count": 10,
      "outputs": [
        {
          "output_type": "execute_result",
          "data": {
            "text/plain": [
              "(41188, 21)"
            ]
          },
          "metadata": {},
          "execution_count": 10
        }
      ]
    },
    {
      "cell_type": "code",
      "source": [
        "# nomes dos atributos\n",
        "df.columns"
      ],
      "metadata": {
        "colab": {
          "base_uri": "https://localhost:8080/"
        },
        "id": "GNB-X4iOAiDn",
        "outputId": "ef24ce3e-3139-4756-bf44-1773893a2050"
      },
      "execution_count": 11,
      "outputs": [
        {
          "output_type": "execute_result",
          "data": {
            "text/plain": [
              "Index(['age', 'job', 'marital', 'education', 'default', 'housing', 'loan',\n",
              "       'contact', 'month', 'day_of_week', 'duration', 'campaign', 'pdays',\n",
              "       'previous', 'poutcome', 'emp.var.rate', 'cons.price.idx',\n",
              "       'cons.conf.idx', 'euribor3m', 'nr.employed', 'y'],\n",
              "      dtype='object')"
            ]
          },
          "metadata": {},
          "execution_count": 11
        }
      ]
    },
    {
      "cell_type": "code",
      "source": [
        "# contabilizando as instâncias únicas em cada atributo\n",
        "df.nunique()"
      ],
      "metadata": {
        "colab": {
          "base_uri": "https://localhost:8080/"
        },
        "id": "Q4pT6xSDDJWl",
        "outputId": "3d515dae-0383-45a8-aeb8-1c3b03d12f91"
      },
      "execution_count": 12,
      "outputs": [
        {
          "output_type": "execute_result",
          "data": {
            "text/plain": [
              "age                 78\n",
              "job                 12\n",
              "marital              4\n",
              "education            8\n",
              "default              3\n",
              "housing              3\n",
              "loan                 3\n",
              "contact              2\n",
              "month               10\n",
              "day_of_week          5\n",
              "duration          1544\n",
              "campaign            42\n",
              "pdays               27\n",
              "previous             8\n",
              "poutcome             3\n",
              "emp.var.rate        10\n",
              "cons.price.idx      26\n",
              "cons.conf.idx       26\n",
              "euribor3m          316\n",
              "nr.employed         11\n",
              "y                    2\n",
              "dtype: int64"
            ]
          },
          "metadata": {},
          "execution_count": 12
        }
      ]
    },
    {
      "cell_type": "code",
      "source": [
        "# tipo de dado em cada atributo\n",
        "df.dtypes"
      ],
      "metadata": {
        "colab": {
          "base_uri": "https://localhost:8080/"
        },
        "id": "Cenkg-9UF8Ht",
        "outputId": "d7b8eab9-706c-43bb-95ef-9eaf61587e0b"
      },
      "execution_count": 13,
      "outputs": [
        {
          "output_type": "execute_result",
          "data": {
            "text/plain": [
              "age                 int64\n",
              "job                object\n",
              "marital            object\n",
              "education          object\n",
              "default            object\n",
              "housing            object\n",
              "loan               object\n",
              "contact            object\n",
              "month              object\n",
              "day_of_week        object\n",
              "duration            int64\n",
              "campaign            int64\n",
              "pdays               int64\n",
              "previous            int64\n",
              "poutcome           object\n",
              "emp.var.rate      float64\n",
              "cons.price.idx    float64\n",
              "cons.conf.idx     float64\n",
              "euribor3m         float64\n",
              "nr.employed       float64\n",
              "y                  object\n",
              "dtype: object"
            ]
          },
          "metadata": {},
          "execution_count": 13
        }
      ]
    },
    {
      "cell_type": "code",
      "source": [
        "# inspecionando a variável alvo \"y\" - instâncias presente e contabilizando-as\n",
        "print(\n",
        "    df['y'].unique(),\n",
        "    df['y'].value_counts(),\n",
        "    round(df['y'].value_counts(normalize=True)*100),\n",
        "    sep='\\n\\n'\n",
        ")"
      ],
      "metadata": {
        "colab": {
          "base_uri": "https://localhost:8080/"
        },
        "id": "Ee64-ABIAHPQ",
        "outputId": "bc1811c6-8fa3-40e8-ac6a-7378506b7cce"
      },
      "execution_count": 29,
      "outputs": [
        {
          "output_type": "stream",
          "name": "stdout",
          "text": [
            "['no' 'yes']\n",
            "\n",
            "no     36548\n",
            "yes     4640\n",
            "Name: y, dtype: int64\n",
            "\n",
            "no    89.000\n",
            "yes   11.000\n",
            "Name: y, dtype: float64\n"
          ]
        }
      ]
    },
    {
      "cell_type": "markdown",
      "source": [
        "> Perceba que, o atributo alvo possui dados do tipo categórico e, portanto será necessário trata-lo, isso será realizado mais a frente.\n",
        "\n",
        "Vamos continuar a exploração do conjunto de dados!"
      ],
      "metadata": {
        "id": "iLQVfqqGAhmS"
      }
    },
    {
      "cell_type": "markdown",
      "source": [
        "**Dicionário de dados:**\n",
        "- `age`: idade (numérica)\n",
        "- `job`: tipo de trabalho (categórico: “administrador”, “operário”, “empresário”, “empregada doméstica”, “gestão”, “aposentado”, “autônomo”, “serviços”, “estudante”, “técnico ”,“ Desempregado ”,“ desconhecido ”)\n",
        "- `marital`: estado civil  (categoria: “divorciado”, “casado”, “solteiro”, “desconhecido”)\n",
        "- `education`: educação (categórica: “basic.4y”, “basic.6y”, “basic.9y”, “high.school”, “analfabeto”, “professional.course”, “university.degree”, “unknown”)\n",
        "- `default`: inadimplência (categórica: “não”, “sim”, “desconhecido”)\n",
        "- `balance`: saldo\n",
        "- `housing`: habitação - tem crédito de habitação? (categórica: “não”, “sim”, “desconhecido”)\n",
        "- `loan`: empréstimo - tem empréstimo pessoal? (categórica: “não”, “sim”, “desconhecido”)\n",
        "- `contact`: tipo de contato (categórico: “celular”, “telefone”)\n",
        "- `day`: dia - último dia de contato da semana (categórico: “seg”, “ter”, “qua”, “qui”, “sex”)\n",
        "- `month`: mês - último mês de contato do ano (categórico: “jan”, “fev”, “mar”,…, “nov”, “dez”)\n",
        "- `duration`: duração - duração do último contato, em segundos (numérico). Nota importante: este atributo afeta fortemente o destino de saída (por exemplo, se duração = 0, então y = 'não'). A duração não é conhecida antes de uma chamada ser realizada, também, após o final da chamada, y é obviamente conhecido. Assim, esta entrada deve ser incluída apenas para fins de benchmark e deve ser descartada se a intenção for ter um modelo preditivo realista\n",
        "- `campaign`: campanha -  número de contatos realizados durante esta campanha e para este cliente (numérico, inclui último contato)\n",
        "- `pdays`: número de dias que se passaram depois que o cliente foi contatado pela última vez em uma campanha anterior (numérico; 999 significa que o cliente não foi contatado anteriormente)\n",
        "- `previous`: anterior - número de contatos realizados antes desta campanha e para este cliente (numérico)\n",
        "- `poutcome`: resultado da campanha de marketing anterior (categórica: \"fracasso\", \"inexistente\", \"sucesso\")\n",
        "- `y`: o cliente subscreveu um depósito a prazo? (binário: “1”, significa “Sim”, “0” significa “Não”)"
      ],
      "metadata": {
        "id": "hFIO3tR9F0aE"
      }
    },
    {
      "cell_type": "code",
      "source": [
        "# instâncias únicas presentes no atributo \"education\"\n",
        "df['education'].unique()"
      ],
      "metadata": {
        "colab": {
          "base_uri": "https://localhost:8080/"
        },
        "id": "XAH0O9edAiA-",
        "outputId": "1d3d1e7d-397d-4337-8f81-3d2b18b1a8ad"
      },
      "execution_count": 15,
      "outputs": [
        {
          "output_type": "execute_result",
          "data": {
            "text/plain": [
              "array(['basic.4y', 'high.school', 'basic.6y', 'basic.9y',\n",
              "       'professional.course', 'unknown', 'university.degree',\n",
              "       'illiterate'], dtype=object)"
            ]
          },
          "metadata": {},
          "execution_count": 15
        }
      ]
    },
    {
      "cell_type": "markdown",
      "source": [
        "> Vamos agrupar as instâncias \"basic.4y\", \"basic.9y\" e \"basic.6y\" e chamá-los de `\"basic\"`."
      ],
      "metadata": {
        "id": "el0gNB6fMNTV"
      }
    },
    {
      "cell_type": "code",
      "source": [
        "# agrupando as instâncias \"basic.4y\", \"basic.9y\" e \"basic.6y\"  em \"basic\"\n",
        "df['education'] = np.where(df['education'] == 'basic.4y', 'basic', df['education'])\n",
        "df['education'] = np.where(df['education'] == 'basic.6y', 'basic', df['education'])\n",
        "df['education'] = np.where(df['education'] == 'basic.9y', 'basic', df['education'])"
      ],
      "metadata": {
        "id": "zfs0KwqFMm6k"
      },
      "execution_count": 16,
      "outputs": []
    },
    {
      "cell_type": "code",
      "source": [
        "# contabilizando as instâncias\n",
        "df['education'].value_counts()"
      ],
      "metadata": {
        "colab": {
          "base_uri": "https://localhost:8080/"
        },
        "id": "N9CHph7INRlN",
        "outputId": "6f473dc1-3faf-4500-ff30-5aaf09467751"
      },
      "execution_count": 17,
      "outputs": [
        {
          "output_type": "execute_result",
          "data": {
            "text/plain": [
              "basic                  12513\n",
              "university.degree      12168\n",
              "high.school             9515\n",
              "professional.course     5243\n",
              "unknown                 1731\n",
              "illiterate                18\n",
              "Name: education, dtype: int64"
            ]
          },
          "metadata": {},
          "execution_count": 17
        }
      ]
    },
    {
      "cell_type": "code",
      "source": [
        "# bibliotecas para visualização gráfica\n",
        "import matplotlib.pyplot as plt\n",
        "plt.rc('font', size=20)\n",
        "%matplotlib inline\n",
        "\n",
        "import seaborn as sns\n",
        "# sns.set(style='white')\n",
        "sns.set(style='whitegrid', color_codes=True)"
      ],
      "metadata": {
        "id": "DelDvY44Ah7G"
      },
      "execution_count": 18,
      "outputs": []
    },
    {
      "cell_type": "code",
      "source": [
        "# distribuição das instâncias da variável alvo\n",
        "plt.figure(figsize=(12, 7))\n",
        "\n",
        "sns.countplot(x='y', data=df, palette='hls')\n",
        "plt.savefig('count_plot(var_target)')\n",
        "plt.show();"
      ],
      "metadata": {
        "colab": {
          "base_uri": "https://localhost:8080/",
          "height": 448
        },
        "id": "WtL0475RAh4G",
        "outputId": "75a9a28e-cb3d-464b-ea7f-fab6b3b9e6e8"
      },
      "execution_count": 19,
      "outputs": [
        {
          "output_type": "display_data",
          "data": {
            "image/png": "[encoded data removed]",
            "text/plain": [
              "<Figure size 864x504 with 1 Axes>"
            ]
          },
          "metadata": {}
        }
      ]
    },
    {
      "cell_type": "code",
      "source": [
        "count_no_sub = len(df[df['y'] == 'no'])\n",
        "count_sub = len(df[df['y'] == 'yes'])\n",
        "\n",
        "count_no_sub, count_sub"
      ],
      "metadata": {
        "colab": {
          "base_uri": "https://localhost:8080/"
        },
        "id": "qhoq2TSZMlCi",
        "outputId": "7b45b73e-d693-4354-c87f-12ad0138b557"
      },
      "execution_count": 20,
      "outputs": [
        {
          "output_type": "execute_result",
          "data": {
            "text/plain": [
              "(36548, 4640)"
            ]
          },
          "metadata": {},
          "execution_count": 20
        }
      ]
    },
    {
      "cell_type": "code",
      "source": [
        "pct_of_no_sub = count_no_sub / (count_no_sub + count_sub)\n",
        "round(pct_of_no_sub, 2)"
      ],
      "metadata": {
        "colab": {
          "base_uri": "https://localhost:8080/"
        },
        "id": "Zp1YrXMVM5Ib",
        "outputId": "8e72409f-e4a3-40cf-cc50-f05b91c0f441"
      },
      "execution_count": 21,
      "outputs": [
        {
          "output_type": "execute_result",
          "data": {
            "text/plain": [
              "0.89"
            ]
          },
          "metadata": {},
          "execution_count": 21
        }
      ]
    },
    {
      "cell_type": "code",
      "source": [
        "pct_of_sub = count_sub / (count_no_sub + count_sub)\n",
        "round(pct_of_sub, 2)"
      ],
      "metadata": {
        "colab": {
          "base_uri": "https://localhost:8080/"
        },
        "id": "05OiP1XiNgP7",
        "outputId": "f63cb60f-1962-44b4-a3a7-66829b9875f2"
      },
      "execution_count": 22,
      "outputs": [
        {
          "output_type": "execute_result",
          "data": {
            "text/plain": [
              "0.11"
            ]
          },
          "metadata": {},
          "execution_count": 22
        }
      ]
    },
    {
      "cell_type": "markdown",
      "source": [
        "> Nossas classes são desequilibradas e a proporção de instâncias sem assinatura para instâncias de assinatura é de `89:11`.\n",
        "\n",
        "Antes de prosseguirmos para equilibrar as classes, vamos explorar mais um pouco o conjunto de dados."
      ],
      "metadata": {
        "id": "fhIV-2rPOGcX"
      }
    },
    {
      "cell_type": "code",
      "source": [
        "# transformando o tipo de dado do atributo alvo de categórico para numérico\n",
        "df['y'] = df['y'].map({'no': 0, 'yes': 1})"
      ],
      "metadata": {
        "id": "j67e81zxpFEy"
      },
      "execution_count": 30,
      "outputs": []
    },
    {
      "cell_type": "code",
      "source": [
        "# visualizando a média da distribuição dos atributos referente ao atributo alvo \"y\" e suas respectivas instâncias\n",
        "df.groupby('y').mean()"
      ],
      "metadata": {
        "colab": {
          "base_uri": "https://localhost:8080/",
          "height": 143
        },
        "id": "PEoaWy5WEclH",
        "outputId": "27a685a1-e1fe-4666-81a1-bb96b6c0b30d"
      },
      "execution_count": 32,
      "outputs": [
        {
          "output_type": "execute_result",
          "data": {
            "text/html": [
              "\n",
              "  <div id=\"df-6bde7b1d-2785-487a-984d-b57405f2c0ad\">\n",
              "    <div class=\"colab-df-container\">\n",
              "      <div>\n",
              "<style scoped>\n",
              "    .dataframe tbody tr th:only-of-type {\n",
              "        vertical-align: middle;\n",
              "    }\n",
              "\n",
              "    .dataframe tbody tr th {\n",
              "        vertical-align: top;\n",
              "    }\n",
              "\n",
              "    .dataframe thead th {\n",
              "        text-align: right;\n",
              "    }\n",
              "</style>\n",
              "<table border=\"1\" class=\"dataframe\">\n",
              "  <thead>\n",
              "    <tr style=\"text-align: right;\">\n",
              "      <th></th>\n",
              "      <th>age</th>\n",
              "      <th>duration</th>\n",
              "      <th>campaign</th>\n",
              "      <th>pdays</th>\n",
              "      <th>previous</th>\n",
              "      <th>emp.var.rate</th>\n",
              "      <th>cons.price.idx</th>\n",
              "      <th>cons.conf.idx</th>\n",
              "      <th>euribor3m</th>\n",
              "      <th>nr.employed</th>\n",
              "    </tr>\n",
              "    <tr>\n",
              "      <th>y</th>\n",
              "      <th></th>\n",
              "      <th></th>\n",
              "      <th></th>\n",
              "      <th></th>\n",
              "      <th></th>\n",
              "      <th></th>\n",
              "      <th></th>\n",
              "      <th></th>\n",
              "      <th></th>\n",
              "      <th></th>\n",
              "    </tr>\n",
              "  </thead>\n",
              "  <tbody>\n",
              "    <tr>\n",
              "      <th>0</th>\n",
              "      <td>39.911</td>\n",
              "      <td>220.845</td>\n",
              "      <td>2.633</td>\n",
              "      <td>984.114</td>\n",
              "      <td>0.132</td>\n",
              "      <td>0.249</td>\n",
              "      <td>93.604</td>\n",
              "      <td>-40.593</td>\n",
              "      <td>3.811</td>\n",
              "      <td>5,176.167</td>\n",
              "    </tr>\n",
              "    <tr>\n",
              "      <th>1</th>\n",
              "      <td>40.913</td>\n",
              "      <td>553.191</td>\n",
              "      <td>2.052</td>\n",
              "      <td>792.036</td>\n",
              "      <td>0.493</td>\n",
              "      <td>-1.233</td>\n",
              "      <td>93.354</td>\n",
              "      <td>-39.790</td>\n",
              "      <td>2.123</td>\n",
              "      <td>5,095.116</td>\n",
              "    </tr>\n",
              "  </tbody>\n",
              "</table>\n",
              "</div>\n",
              "      <button class=\"colab-df-convert\" onclick=\"convertToInteractive('df-6bde7b1d-2785-487a-984d-b57405f2c0ad')\"\n",
              "              title=\"Convert this dataframe to an interactive table.\"\n",
              "              style=\"display:none;\">\n",
              "        \n",
              "  <svg xmlns=\"http://www.w3.org/2000/svg\" height=\"24px\"viewBox=\"0 0 24 24\"\n",
              "       width=\"24px\">\n",
              "    <path d=\"M0 0h24v24H0V0z\" fill=\"none\"/>\n",
              "    <path d=\"M18.56 5.44l.94 2.06.94-2.06 2.06-.94-2.06-.94-.94-2.06-.94 2.06-2.06.94zm-11 1L8.5 8.5l.94-2.06 2.06-.94-2.06-.94L8.5 2.5l-.94 2.06-2.06.94zm10 10l.94 2.06.94-2.06 2.06-.94-2.06-.94-.94-2.06-.94 2.06-2.06.94z\"/><path d=\"M17.41 7.96l-1.37-1.37c-.4-.4-.92-.59-1.43-.59-.52 0-1.04.2-1.43.59L10.3 9.45l-7.72 7.72c-.78.78-.78 2.05 0 2.83L4 21.41c.39.39.9.59 1.41.59.51 0 1.02-.2 1.41-.59l7.78-7.78 2.81-2.81c.8-.78.8-2.07 0-2.86zM5.41 20L4 18.59l7.72-7.72 1.47 1.35L5.41 20z\"/>\n",
              "  </svg>\n",
              "      </button>\n",
              "      \n",
              "  <style>\n",
              "    .colab-df-container {\n",
              "      display:flex;\n",
              "      flex-wrap:wrap;\n",
              "      gap: 12px;\n",
              "    }\n",
              "\n",
              "    .colab-df-convert {\n",
              "      background-color: #E8F0FE;\n",
              "      border: none;\n",
              "      border-radius: 50%;\n",
              "      cursor: pointer;\n",
              "      display: none;\n",
              "      fill: #1967D2;\n",
              "      height: 32px;\n",
              "      padding: 0 0 0 0;\n",
              "      width: 32px;\n",
              "    }\n",
              "\n",
              "    .colab-df-convert:hover {\n",
              "      background-color: #E2EBFA;\n",
              "      box-shadow: 0px 1px 2px rgba(60, 64, 67, 0.3), 0px 1px 3px 1px rgba(60, 64, 67, 0.15);\n",
              "      fill: #174EA6;\n",
              "    }\n",
              "\n",
              "    [theme=dark] .colab-df-convert {\n",
              "      background-color: #3B4455;\n",
              "      fill: #D2E3FC;\n",
              "    }\n",
              "\n",
              "    [theme=dark] .colab-df-convert:hover {\n",
              "      background-color: #434B5C;\n",
              "      box-shadow: 0px 1px 3px 1px rgba(0, 0, 0, 0.15);\n",
              "      filter: drop-shadow(0px 1px 2px rgba(0, 0, 0, 0.3));\n",
              "      fill: #FFFFFF;\n",
              "    }\n",
              "  </style>\n",
              "\n",
              "      <script>\n",
              "        const buttonEl =\n",
              "          document.querySelector('#df-6bde7b1d-2785-487a-984d-b57405f2c0ad button.colab-df-convert');\n",
              "        buttonEl.style.display =\n",
              "          google.colab.kernel.accessAllowed ? 'block' : 'none';\n",
              "\n",
              "        async function convertToInteractive(key) {\n",
              "          const element = document.querySelector('#df-6bde7b1d-2785-487a-984d-b57405f2c0ad');\n",
              "          const dataTable =\n",
              "            await google.colab.kernel.invokeFunction('convertToInteractive',\n",
              "                                                     [key], {});\n",
              "          if (!dataTable) return;\n",
              "\n",
              "          const docLinkHtml = 'Like what you see? Visit the ' +\n",
              "            '<a target=\"_blank\" href=https://colab.research.google.com/notebooks/data_table.ipynb>data table notebook</a>'\n",
              "            + ' to learn more about interactive tables.';\n",
              "          element.innerHTML = '';\n",
              "          dataTable['output_type'] = 'display_data';\n",
              "          await google.colab.output.renderOutput(dataTable, element);\n",
              "          const docLink = document.createElement('div');\n",
              "          docLink.innerHTML = docLinkHtml;\n",
              "          element.appendChild(docLink);\n",
              "        }\n",
              "      </script>\n",
              "    </div>\n",
              "  </div>\n",
              "  "
            ],
            "text/plain": [
              "     age  duration  campaign  ...  cons.conf.idx  euribor3m  nr.employed\n",
              "y                             ...                                       \n",
              "0 39.911   220.845     2.633  ...        -40.593      3.811    5,176.167\n",
              "1 40.913   553.191     2.052  ...        -39.790      2.123    5,095.116\n",
              "\n",
              "[2 rows x 10 columns]"
            ]
          },
          "metadata": {},
          "execution_count": 32
        }
      ]
    },
    {
      "cell_type": "markdown",
      "source": [
        "> **Observações:**<br>\n",
        "- A idade média dos clientes que compraram o depósito a prazo é superior à dos clientes que não o fizeram.<br>\n",
        "- O atributo `pdays` (dias desde que o cliente foi contatado pela última vez) é compreensivelmente menor para os clientes que o compraram. \n",
        " - Quanto mais baixos forem os dias, melhor será a memória da última chamada e, portanto, melhores serão as chances de venda.<br>\n",
        "- Surpreendentemente, as campanhas (número de contatos ou ligações realizadas durante a campanha atual) são menores para os clientes que compraram o depósito a prazo."
      ],
      "metadata": {
        "id": "Ehc1UHY9OTfm"
      }
    },
    {
      "cell_type": "markdown",
      "source": [
        "Vamos explorar outras variáveis utilizando a mesma técnica acima."
      ],
      "metadata": {
        "id": "237yqilIO-cG"
      }
    },
    {
      "cell_type": "code",
      "source": [
        "# visualizando a média da distribuição dos atributos referente ao atributo \"job\" e suas respectivas instâncias\n",
        "df.groupby('job').mean()"
      ],
      "metadata": {
        "colab": {
          "base_uri": "https://localhost:8080/",
          "height": 457
        },
        "id": "wZrsBVNUEciI",
        "outputId": "ac88a9d8-45f2-4efd-eb6e-763c4f8bba06"
      },
      "execution_count": 33,
      "outputs": [
        {
          "output_type": "execute_result",
          "data": {
            "text/html": [
              "\n",
              "  <div id=\"df-398e4bc4-d249-473c-99f8-658b8d58f09e\">\n",
              "    <div class=\"colab-df-container\">\n",
              "      <div>\n",
              "<style scoped>\n",
              "    .dataframe tbody tr th:only-of-type {\n",
              "        vertical-align: middle;\n",
              "    }\n",
              "\n",
              "    .dataframe tbody tr th {\n",
              "        vertical-align: top;\n",
              "    }\n",
              "\n",
              "    .dataframe thead th {\n",
              "        text-align: right;\n",
              "    }\n",
              "</style>\n",
              "<table border=\"1\" class=\"dataframe\">\n",
              "  <thead>\n",
              "    <tr style=\"text-align: right;\">\n",
              "      <th></th>\n",
              "      <th>age</th>\n",
              "      <th>duration</th>\n",
              "      <th>campaign</th>\n",
              "      <th>pdays</th>\n",
              "      <th>previous</th>\n",
              "      <th>emp.var.rate</th>\n",
              "      <th>cons.price.idx</th>\n",
              "      <th>cons.conf.idx</th>\n",
              "      <th>euribor3m</th>\n",
              "      <th>nr.employed</th>\n",
              "      <th>y</th>\n",
              "    </tr>\n",
              "    <tr>\n",
              "      <th>job</th>\n",
              "      <th></th>\n",
              "      <th></th>\n",
              "      <th></th>\n",
              "      <th></th>\n",
              "      <th></th>\n",
              "      <th></th>\n",
              "      <th></th>\n",
              "      <th></th>\n",
              "      <th></th>\n",
              "      <th></th>\n",
              "      <th></th>\n",
              "    </tr>\n",
              "  </thead>\n",
              "  <tbody>\n",
              "    <tr>\n",
              "      <th>admin.</th>\n",
              "      <td>38.187</td>\n",
              "      <td>254.312</td>\n",
              "      <td>2.623</td>\n",
              "      <td>954.319</td>\n",
              "      <td>0.189</td>\n",
              "      <td>0.016</td>\n",
              "      <td>93.534</td>\n",
              "      <td>-40.245</td>\n",
              "      <td>3.550</td>\n",
              "      <td>5,164.125</td>\n",
              "      <td>0.130</td>\n",
              "    </tr>\n",
              "    <tr>\n",
              "      <th>blue-collar</th>\n",
              "      <td>39.556</td>\n",
              "      <td>264.542</td>\n",
              "      <td>2.558</td>\n",
              "      <td>985.160</td>\n",
              "      <td>0.123</td>\n",
              "      <td>0.249</td>\n",
              "      <td>93.657</td>\n",
              "      <td>-41.376</td>\n",
              "      <td>3.772</td>\n",
              "      <td>5,175.615</td>\n",
              "      <td>0.069</td>\n",
              "    </tr>\n",
              "    <tr>\n",
              "      <th>entrepreneur</th>\n",
              "      <td>41.723</td>\n",
              "      <td>263.268</td>\n",
              "      <td>2.536</td>\n",
              "      <td>981.267</td>\n",
              "      <td>0.139</td>\n",
              "      <td>0.159</td>\n",
              "      <td>93.605</td>\n",
              "      <td>-41.284</td>\n",
              "      <td>3.791</td>\n",
              "      <td>5,176.314</td>\n",
              "      <td>0.085</td>\n",
              "    </tr>\n",
              "    <tr>\n",
              "      <th>housemaid</th>\n",
              "      <td>45.500</td>\n",
              "      <td>250.455</td>\n",
              "      <td>2.640</td>\n",
              "      <td>960.579</td>\n",
              "      <td>0.138</td>\n",
              "      <td>0.433</td>\n",
              "      <td>93.677</td>\n",
              "      <td>-39.495</td>\n",
              "      <td>4.010</td>\n",
              "      <td>5,179.530</td>\n",
              "      <td>0.100</td>\n",
              "    </tr>\n",
              "    <tr>\n",
              "      <th>management</th>\n",
              "      <td>42.363</td>\n",
              "      <td>257.058</td>\n",
              "      <td>2.476</td>\n",
              "      <td>962.647</td>\n",
              "      <td>0.185</td>\n",
              "      <td>-0.013</td>\n",
              "      <td>93.523</td>\n",
              "      <td>-40.489</td>\n",
              "      <td>3.611</td>\n",
              "      <td>5,166.651</td>\n",
              "      <td>0.112</td>\n",
              "    </tr>\n",
              "    <tr>\n",
              "      <th>retired</th>\n",
              "      <td>62.027</td>\n",
              "      <td>273.712</td>\n",
              "      <td>2.477</td>\n",
              "      <td>897.936</td>\n",
              "      <td>0.327</td>\n",
              "      <td>-0.698</td>\n",
              "      <td>93.431</td>\n",
              "      <td>-38.573</td>\n",
              "      <td>2.770</td>\n",
              "      <td>5,122.262</td>\n",
              "      <td>0.252</td>\n",
              "    </tr>\n",
              "    <tr>\n",
              "      <th>self-employed</th>\n",
              "      <td>39.949</td>\n",
              "      <td>264.142</td>\n",
              "      <td>2.661</td>\n",
              "      <td>976.621</td>\n",
              "      <td>0.144</td>\n",
              "      <td>0.094</td>\n",
              "      <td>93.560</td>\n",
              "      <td>-40.488</td>\n",
              "      <td>3.689</td>\n",
              "      <td>5,170.674</td>\n",
              "      <td>0.105</td>\n",
              "    </tr>\n",
              "    <tr>\n",
              "      <th>services</th>\n",
              "      <td>37.926</td>\n",
              "      <td>258.398</td>\n",
              "      <td>2.588</td>\n",
              "      <td>979.974</td>\n",
              "      <td>0.155</td>\n",
              "      <td>0.175</td>\n",
              "      <td>93.635</td>\n",
              "      <td>-41.290</td>\n",
              "      <td>3.699</td>\n",
              "      <td>5,171.600</td>\n",
              "      <td>0.081</td>\n",
              "    </tr>\n",
              "    <tr>\n",
              "      <th>student</th>\n",
              "      <td>25.895</td>\n",
              "      <td>283.683</td>\n",
              "      <td>2.104</td>\n",
              "      <td>840.217</td>\n",
              "      <td>0.525</td>\n",
              "      <td>-1.408</td>\n",
              "      <td>93.332</td>\n",
              "      <td>-40.188</td>\n",
              "      <td>1.884</td>\n",
              "      <td>5,085.939</td>\n",
              "      <td>0.314</td>\n",
              "    </tr>\n",
              "    <tr>\n",
              "      <th>technician</th>\n",
              "      <td>38.508</td>\n",
              "      <td>250.232</td>\n",
              "      <td>2.577</td>\n",
              "      <td>964.408</td>\n",
              "      <td>0.154</td>\n",
              "      <td>0.275</td>\n",
              "      <td>93.561</td>\n",
              "      <td>-39.928</td>\n",
              "      <td>3.820</td>\n",
              "      <td>5,175.648</td>\n",
              "      <td>0.108</td>\n",
              "    </tr>\n",
              "    <tr>\n",
              "      <th>unemployed</th>\n",
              "      <td>39.734</td>\n",
              "      <td>249.452</td>\n",
              "      <td>2.564</td>\n",
              "      <td>935.317</td>\n",
              "      <td>0.199</td>\n",
              "      <td>-0.112</td>\n",
              "      <td>93.564</td>\n",
              "      <td>-40.008</td>\n",
              "      <td>3.467</td>\n",
              "      <td>5,157.157</td>\n",
              "      <td>0.142</td>\n",
              "    </tr>\n",
              "    <tr>\n",
              "      <th>unknown</th>\n",
              "      <td>45.564</td>\n",
              "      <td>239.676</td>\n",
              "      <td>2.648</td>\n",
              "      <td>938.727</td>\n",
              "      <td>0.155</td>\n",
              "      <td>0.358</td>\n",
              "      <td>93.719</td>\n",
              "      <td>-38.798</td>\n",
              "      <td>3.949</td>\n",
              "      <td>5,172.932</td>\n",
              "      <td>0.112</td>\n",
              "    </tr>\n",
              "  </tbody>\n",
              "</table>\n",
              "</div>\n",
              "      <button class=\"colab-df-convert\" onclick=\"convertToInteractive('df-398e4bc4-d249-473c-99f8-658b8d58f09e')\"\n",
              "              title=\"Convert this dataframe to an interactive table.\"\n",
              "              style=\"display:none;\">\n",
              "        \n",
              "  <svg xmlns=\"http://www.w3.org/2000/svg\" height=\"24px\"viewBox=\"0 0 24 24\"\n",
              "       width=\"24px\">\n",
              "    <path d=\"M0 0h24v24H0V0z\" fill=\"none\"/>\n",
              "    <path d=\"M18.56 5.44l.94 2.06.94-2.06 2.06-.94-2.06-.94-.94-2.06-.94 2.06-2.06.94zm-11 1L8.5 8.5l.94-2.06 2.06-.94-2.06-.94L8.5 2.5l-.94 2.06-2.06.94zm10 10l.94 2.06.94-2.06 2.06-.94-2.06-.94-.94-2.06-.94 2.06-2.06.94z\"/><path d=\"M17.41 7.96l-1.37-1.37c-.4-.4-.92-.59-1.43-.59-.52 0-1.04.2-1.43.59L10.3 9.45l-7.72 7.72c-.78.78-.78 2.05 0 2.83L4 21.41c.39.39.9.59 1.41.59.51 0 1.02-.2 1.41-.59l7.78-7.78 2.81-2.81c.8-.78.8-2.07 0-2.86zM5.41 20L4 18.59l7.72-7.72 1.47 1.35L5.41 20z\"/>\n",
              "  </svg>\n",
              "      </button>\n",
              "      \n",
              "  <style>\n",
              "    .colab-df-container {\n",
              "      display:flex;\n",
              "      flex-wrap:wrap;\n",
              "      gap: 12px;\n",
              "    }\n",
              "\n",
              "    .colab-df-convert {\n",
              "      background-color: #E8F0FE;\n",
              "      border: none;\n",
              "      border-radius: 50%;\n",
              "      cursor: pointer;\n",
              "      display: none;\n",
              "      fill: #1967D2;\n",
              "      height: 32px;\n",
              "      padding: 0 0 0 0;\n",
              "      width: 32px;\n",
              "    }\n",
              "\n",
              "    .colab-df-convert:hover {\n",
              "      background-color: #E2EBFA;\n",
              "      box-shadow: 0px 1px 2px rgba(60, 64, 67, 0.3), 0px 1px 3px 1px rgba(60, 64, 67, 0.15);\n",
              "      fill: #174EA6;\n",
              "    }\n",
              "\n",
              "    [theme=dark] .colab-df-convert {\n",
              "      background-color: #3B4455;\n",
              "      fill: #D2E3FC;\n",
              "    }\n",
              "\n",
              "    [theme=dark] .colab-df-convert:hover {\n",
              "      background-color: #434B5C;\n",
              "      box-shadow: 0px 1px 3px 1px rgba(0, 0, 0, 0.15);\n",
              "      filter: drop-shadow(0px 1px 2px rgba(0, 0, 0, 0.3));\n",
              "      fill: #FFFFFF;\n",
              "    }\n",
              "  </style>\n",
              "\n",
              "      <script>\n",
              "        const buttonEl =\n",
              "          document.querySelector('#df-398e4bc4-d249-473c-99f8-658b8d58f09e button.colab-df-convert');\n",
              "        buttonEl.style.display =\n",
              "          google.colab.kernel.accessAllowed ? 'block' : 'none';\n",
              "\n",
              "        async function convertToInteractive(key) {\n",
              "          const element = document.querySelector('#df-398e4bc4-d249-473c-99f8-658b8d58f09e');\n",
              "          const dataTable =\n",
              "            await google.colab.kernel.invokeFunction('convertToInteractive',\n",
              "                                                     [key], {});\n",
              "          if (!dataTable) return;\n",
              "\n",
              "          const docLinkHtml = 'Like what you see? Visit the ' +\n",
              "            '<a target=\"_blank\" href=https://colab.research.google.com/notebooks/data_table.ipynb>data table notebook</a>'\n",
              "            + ' to learn more about interactive tables.';\n",
              "          element.innerHTML = '';\n",
              "          dataTable['output_type'] = 'display_data';\n",
              "          await google.colab.output.renderOutput(dataTable, element);\n",
              "          const docLink = document.createElement('div');\n",
              "          docLink.innerHTML = docLinkHtml;\n",
              "          element.appendChild(docLink);\n",
              "        }\n",
              "      </script>\n",
              "    </div>\n",
              "  </div>\n",
              "  "
            ],
            "text/plain": [
              "                 age  duration  campaign  ...  euribor3m  nr.employed     y\n",
              "job                                       ...                              \n",
              "admin.        38.187   254.312     2.623  ...      3.550    5,164.125 0.130\n",
              "blue-collar   39.556   264.542     2.558  ...      3.772    5,175.615 0.069\n",
              "entrepreneur  41.723   263.268     2.536  ...      3.791    5,176.314 0.085\n",
              "housemaid     45.500   250.455     2.640  ...      4.010    5,179.530 0.100\n",
              "management    42.363   257.058     2.476  ...      3.611    5,166.651 0.112\n",
              "retired       62.027   273.712     2.477  ...      2.770    5,122.262 0.252\n",
              "self-employed 39.949   264.142     2.661  ...      3.689    5,170.674 0.105\n",
              "services      37.926   258.398     2.588  ...      3.699    5,171.600 0.081\n",
              "student       25.895   283.683     2.104  ...      1.884    5,085.939 0.314\n",
              "technician    38.508   250.232     2.577  ...      3.820    5,175.648 0.108\n",
              "unemployed    39.734   249.452     2.564  ...      3.467    5,157.157 0.142\n",
              "unknown       45.564   239.676     2.648  ...      3.949    5,172.932 0.112\n",
              "\n",
              "[12 rows x 11 columns]"
            ]
          },
          "metadata": {},
          "execution_count": 33
        }
      ]
    },
    {
      "cell_type": "code",
      "source": [
        "# visualizando a média da distribuição dos atributos referente ao atributo \"marital\" e suas respectivas instâncias\n",
        "df.groupby('marital').mean()"
      ],
      "metadata": {
        "colab": {
          "base_uri": "https://localhost:8080/",
          "height": 206
        },
        "id": "MY-ui6ywEce3",
        "outputId": "55050ca9-c4af-44a0-ef6d-2aa08145a94d"
      },
      "execution_count": 34,
      "outputs": [
        {
          "output_type": "execute_result",
          "data": {
            "text/html": [
              "\n",
              "  <div id=\"df-b81f643a-2e9d-4061-bfa2-d1c7a845cd21\">\n",
              "    <div class=\"colab-df-container\">\n",
              "      <div>\n",
              "<style scoped>\n",
              "    .dataframe tbody tr th:only-of-type {\n",
              "        vertical-align: middle;\n",
              "    }\n",
              "\n",
              "    .dataframe tbody tr th {\n",
              "        vertical-align: top;\n",
              "    }\n",
              "\n",
              "    .dataframe thead th {\n",
              "        text-align: right;\n",
              "    }\n",
              "</style>\n",
              "<table border=\"1\" class=\"dataframe\">\n",
              "  <thead>\n",
              "    <tr style=\"text-align: right;\">\n",
              "      <th></th>\n",
              "      <th>age</th>\n",
              "      <th>duration</th>\n",
              "      <th>campaign</th>\n",
              "      <th>pdays</th>\n",
              "      <th>previous</th>\n",
              "      <th>emp.var.rate</th>\n",
              "      <th>cons.price.idx</th>\n",
              "      <th>cons.conf.idx</th>\n",
              "      <th>euribor3m</th>\n",
              "      <th>nr.employed</th>\n",
              "      <th>y</th>\n",
              "    </tr>\n",
              "    <tr>\n",
              "      <th>marital</th>\n",
              "      <th></th>\n",
              "      <th></th>\n",
              "      <th></th>\n",
              "      <th></th>\n",
              "      <th></th>\n",
              "      <th></th>\n",
              "      <th></th>\n",
              "      <th></th>\n",
              "      <th></th>\n",
              "      <th></th>\n",
              "      <th></th>\n",
              "    </tr>\n",
              "  </thead>\n",
              "  <tbody>\n",
              "    <tr>\n",
              "      <th>divorced</th>\n",
              "      <td>44.899</td>\n",
              "      <td>253.790</td>\n",
              "      <td>2.613</td>\n",
              "      <td>968.640</td>\n",
              "      <td>0.169</td>\n",
              "      <td>0.164</td>\n",
              "      <td>93.607</td>\n",
              "      <td>-40.707</td>\n",
              "      <td>3.716</td>\n",
              "      <td>5,170.879</td>\n",
              "      <td>0.103</td>\n",
              "    </tr>\n",
              "    <tr>\n",
              "      <th>married</th>\n",
              "      <td>42.307</td>\n",
              "      <td>257.439</td>\n",
              "      <td>2.573</td>\n",
              "      <td>967.248</td>\n",
              "      <td>0.156</td>\n",
              "      <td>0.184</td>\n",
              "      <td>93.597</td>\n",
              "      <td>-40.271</td>\n",
              "      <td>3.746</td>\n",
              "      <td>5,171.849</td>\n",
              "      <td>0.102</td>\n",
              "    </tr>\n",
              "    <tr>\n",
              "      <th>single</th>\n",
              "      <td>33.159</td>\n",
              "      <td>261.524</td>\n",
              "      <td>2.534</td>\n",
              "      <td>949.910</td>\n",
              "      <td>0.211</td>\n",
              "      <td>-0.168</td>\n",
              "      <td>93.517</td>\n",
              "      <td>-40.919</td>\n",
              "      <td>3.317</td>\n",
              "      <td>5,155.199</td>\n",
              "      <td>0.140</td>\n",
              "    </tr>\n",
              "    <tr>\n",
              "      <th>unknown</th>\n",
              "      <td>40.275</td>\n",
              "      <td>312.725</td>\n",
              "      <td>3.188</td>\n",
              "      <td>937.100</td>\n",
              "      <td>0.275</td>\n",
              "      <td>-0.221</td>\n",
              "      <td>93.471</td>\n",
              "      <td>-40.820</td>\n",
              "      <td>3.313</td>\n",
              "      <td>5,157.394</td>\n",
              "      <td>0.150</td>\n",
              "    </tr>\n",
              "  </tbody>\n",
              "</table>\n",
              "</div>\n",
              "      <button class=\"colab-df-convert\" onclick=\"convertToInteractive('df-b81f643a-2e9d-4061-bfa2-d1c7a845cd21')\"\n",
              "              title=\"Convert this dataframe to an interactive table.\"\n",
              "              style=\"display:none;\">\n",
              "        \n",
              "  <svg xmlns=\"http://www.w3.org/2000/svg\" height=\"24px\"viewBox=\"0 0 24 24\"\n",
              "       width=\"24px\">\n",
              "    <path d=\"M0 0h24v24H0V0z\" fill=\"none\"/>\n",
              "    <path d=\"M18.56 5.44l.94 2.06.94-2.06 2.06-.94-2.06-.94-.94-2.06-.94 2.06-2.06.94zm-11 1L8.5 8.5l.94-2.06 2.06-.94-2.06-.94L8.5 2.5l-.94 2.06-2.06.94zm10 10l.94 2.06.94-2.06 2.06-.94-2.06-.94-.94-2.06-.94 2.06-2.06.94z\"/><path d=\"M17.41 7.96l-1.37-1.37c-.4-.4-.92-.59-1.43-.59-.52 0-1.04.2-1.43.59L10.3 9.45l-7.72 7.72c-.78.78-.78 2.05 0 2.83L4 21.41c.39.39.9.59 1.41.59.51 0 1.02-.2 1.41-.59l7.78-7.78 2.81-2.81c.8-.78.8-2.07 0-2.86zM5.41 20L4 18.59l7.72-7.72 1.47 1.35L5.41 20z\"/>\n",
              "  </svg>\n",
              "      </button>\n",
              "      \n",
              "  <style>\n",
              "    .colab-df-container {\n",
              "      display:flex;\n",
              "      flex-wrap:wrap;\n",
              "      gap: 12px;\n",
              "    }\n",
              "\n",
              "    .colab-df-convert {\n",
              "      background-color: #E8F0FE;\n",
              "      border: none;\n",
              "      border-radius: 50%;\n",
              "      cursor: pointer;\n",
              "      display: none;\n",
              "      fill: #1967D2;\n",
              "      height: 32px;\n",
              "      padding: 0 0 0 0;\n",
              "      width: 32px;\n",
              "    }\n",
              "\n",
              "    .colab-df-convert:hover {\n",
              "      background-color: #E2EBFA;\n",
              "      box-shadow: 0px 1px 2px rgba(60, 64, 67, 0.3), 0px 1px 3px 1px rgba(60, 64, 67, 0.15);\n",
              "      fill: #174EA6;\n",
              "    }\n",
              "\n",
              "    [theme=dark] .colab-df-convert {\n",
              "      background-color: #3B4455;\n",
              "      fill: #D2E3FC;\n",
              "    }\n",
              "\n",
              "    [theme=dark] .colab-df-convert:hover {\n",
              "      background-color: #434B5C;\n",
              "      box-shadow: 0px 1px 3px 1px rgba(0, 0, 0, 0.15);\n",
              "      filter: drop-shadow(0px 1px 2px rgba(0, 0, 0, 0.3));\n",
              "      fill: #FFFFFF;\n",
              "    }\n",
              "  </style>\n",
              "\n",
              "      <script>\n",
              "        const buttonEl =\n",
              "          document.querySelector('#df-b81f643a-2e9d-4061-bfa2-d1c7a845cd21 button.colab-df-convert');\n",
              "        buttonEl.style.display =\n",
              "          google.colab.kernel.accessAllowed ? 'block' : 'none';\n",
              "\n",
              "        async function convertToInteractive(key) {\n",
              "          const element = document.querySelector('#df-b81f643a-2e9d-4061-bfa2-d1c7a845cd21');\n",
              "          const dataTable =\n",
              "            await google.colab.kernel.invokeFunction('convertToInteractive',\n",
              "                                                     [key], {});\n",
              "          if (!dataTable) return;\n",
              "\n",
              "          const docLinkHtml = 'Like what you see? Visit the ' +\n",
              "            '<a target=\"_blank\" href=https://colab.research.google.com/notebooks/data_table.ipynb>data table notebook</a>'\n",
              "            + ' to learn more about interactive tables.';\n",
              "          element.innerHTML = '';\n",
              "          dataTable['output_type'] = 'display_data';\n",
              "          await google.colab.output.renderOutput(dataTable, element);\n",
              "          const docLink = document.createElement('div');\n",
              "          docLink.innerHTML = docLinkHtml;\n",
              "          element.appendChild(docLink);\n",
              "        }\n",
              "      </script>\n",
              "    </div>\n",
              "  </div>\n",
              "  "
            ],
            "text/plain": [
              "            age  duration  campaign  ...  euribor3m  nr.employed     y\n",
              "marital                              ...                              \n",
              "divorced 44.899   253.790     2.613  ...      3.716    5,170.879 0.103\n",
              "married  42.307   257.439     2.573  ...      3.746    5,171.849 0.102\n",
              "single   33.159   261.524     2.534  ...      3.317    5,155.199 0.140\n",
              "unknown  40.275   312.725     3.188  ...      3.313    5,157.394 0.150\n",
              "\n",
              "[4 rows x 11 columns]"
            ]
          },
          "metadata": {},
          "execution_count": 34
        }
      ]
    },
    {
      "cell_type": "code",
      "source": [
        "# visualizando a média da distribuição dos atributos referente ao atributo \"education\" e suas respectivas instâncias\n",
        "df.groupby('education').mean()"
      ],
      "metadata": {
        "id": "V7UXz5nMEccZ",
        "colab": {
          "base_uri": "https://localhost:8080/",
          "height": 269
        },
        "outputId": "a0d8b3f1-d00c-4f95-de78-b217ff1f2e8b"
      },
      "execution_count": 35,
      "outputs": [
        {
          "output_type": "execute_result",
          "data": {
            "text/html": [
              "\n",
              "  <div id=\"df-3220da10-7558-46cb-88ca-3237bbeae929\">\n",
              "    <div class=\"colab-df-container\">\n",
              "      <div>\n",
              "<style scoped>\n",
              "    .dataframe tbody tr th:only-of-type {\n",
              "        vertical-align: middle;\n",
              "    }\n",
              "\n",
              "    .dataframe tbody tr th {\n",
              "        vertical-align: top;\n",
              "    }\n",
              "\n",
              "    .dataframe thead th {\n",
              "        text-align: right;\n",
              "    }\n",
              "</style>\n",
              "<table border=\"1\" class=\"dataframe\">\n",
              "  <thead>\n",
              "    <tr style=\"text-align: right;\">\n",
              "      <th></th>\n",
              "      <th>age</th>\n",
              "      <th>duration</th>\n",
              "      <th>campaign</th>\n",
              "      <th>pdays</th>\n",
              "      <th>previous</th>\n",
              "      <th>emp.var.rate</th>\n",
              "      <th>cons.price.idx</th>\n",
              "      <th>cons.conf.idx</th>\n",
              "      <th>euribor3m</th>\n",
              "      <th>nr.employed</th>\n",
              "      <th>y</th>\n",
              "    </tr>\n",
              "    <tr>\n",
              "      <th>education</th>\n",
              "      <th></th>\n",
              "      <th></th>\n",
              "      <th></th>\n",
              "      <th></th>\n",
              "      <th></th>\n",
              "      <th></th>\n",
              "      <th></th>\n",
              "      <th></th>\n",
              "      <th></th>\n",
              "      <th></th>\n",
              "      <th></th>\n",
              "    </tr>\n",
              "  </thead>\n",
              "  <tbody>\n",
              "    <tr>\n",
              "      <th>basic</th>\n",
              "      <td>42.164</td>\n",
              "      <td>263.044</td>\n",
              "      <td>2.559</td>\n",
              "      <td>974.878</td>\n",
              "      <td>0.141</td>\n",
              "      <td>0.191</td>\n",
              "      <td>93.640</td>\n",
              "      <td>-40.928</td>\n",
              "      <td>3.730</td>\n",
              "      <td>5,172.014</td>\n",
              "      <td>0.087</td>\n",
              "    </tr>\n",
              "    <tr>\n",
              "      <th>high.school</th>\n",
              "      <td>37.998</td>\n",
              "      <td>260.887</td>\n",
              "      <td>2.569</td>\n",
              "      <td>964.358</td>\n",
              "      <td>0.186</td>\n",
              "      <td>0.033</td>\n",
              "      <td>93.585</td>\n",
              "      <td>-40.941</td>\n",
              "      <td>3.556</td>\n",
              "      <td>5,164.995</td>\n",
              "      <td>0.108</td>\n",
              "    </tr>\n",
              "    <tr>\n",
              "      <th>illiterate</th>\n",
              "      <td>48.500</td>\n",
              "      <td>276.778</td>\n",
              "      <td>2.278</td>\n",
              "      <td>943.833</td>\n",
              "      <td>0.111</td>\n",
              "      <td>-0.133</td>\n",
              "      <td>93.317</td>\n",
              "      <td>-39.950</td>\n",
              "      <td>3.517</td>\n",
              "      <td>5,171.778</td>\n",
              "      <td>0.222</td>\n",
              "    </tr>\n",
              "    <tr>\n",
              "      <th>professional.course</th>\n",
              "      <td>40.080</td>\n",
              "      <td>252.534</td>\n",
              "      <td>2.586</td>\n",
              "      <td>960.766</td>\n",
              "      <td>0.163</td>\n",
              "      <td>0.173</td>\n",
              "      <td>93.570</td>\n",
              "      <td>-40.124</td>\n",
              "      <td>3.710</td>\n",
              "      <td>5,170.156</td>\n",
              "      <td>0.113</td>\n",
              "    </tr>\n",
              "    <tr>\n",
              "      <th>university.degree</th>\n",
              "      <td>38.879</td>\n",
              "      <td>253.223</td>\n",
              "      <td>2.564</td>\n",
              "      <td>951.808</td>\n",
              "      <td>0.192</td>\n",
              "      <td>-0.028</td>\n",
              "      <td>93.493</td>\n",
              "      <td>-39.976</td>\n",
              "      <td>3.530</td>\n",
              "      <td>5,163.226</td>\n",
              "      <td>0.137</td>\n",
              "    </tr>\n",
              "    <tr>\n",
              "      <th>unknown</th>\n",
              "      <td>43.481</td>\n",
              "      <td>262.391</td>\n",
              "      <td>2.596</td>\n",
              "      <td>942.831</td>\n",
              "      <td>0.226</td>\n",
              "      <td>0.059</td>\n",
              "      <td>93.659</td>\n",
              "      <td>-39.878</td>\n",
              "      <td>3.571</td>\n",
              "      <td>5,159.550</td>\n",
              "      <td>0.145</td>\n",
              "    </tr>\n",
              "  </tbody>\n",
              "</table>\n",
              "</div>\n",
              "      <button class=\"colab-df-convert\" onclick=\"convertToInteractive('df-3220da10-7558-46cb-88ca-3237bbeae929')\"\n",
              "              title=\"Convert this dataframe to an interactive table.\"\n",
              "              style=\"display:none;\">\n",
              "        \n",
              "  <svg xmlns=\"http://www.w3.org/2000/svg\" height=\"24px\"viewBox=\"0 0 24 24\"\n",
              "       width=\"24px\">\n",
              "    <path d=\"M0 0h24v24H0V0z\" fill=\"none\"/>\n",
              "    <path d=\"M18.56 5.44l.94 2.06.94-2.06 2.06-.94-2.06-.94-.94-2.06-.94 2.06-2.06.94zm-11 1L8.5 8.5l.94-2.06 2.06-.94-2.06-.94L8.5 2.5l-.94 2.06-2.06.94zm10 10l.94 2.06.94-2.06 2.06-.94-2.06-.94-.94-2.06-.94 2.06-2.06.94z\"/><path d=\"M17.41 7.96l-1.37-1.37c-.4-.4-.92-.59-1.43-.59-.52 0-1.04.2-1.43.59L10.3 9.45l-7.72 7.72c-.78.78-.78 2.05 0 2.83L4 21.41c.39.39.9.59 1.41.59.51 0 1.02-.2 1.41-.59l7.78-7.78 2.81-2.81c.8-.78.8-2.07 0-2.86zM5.41 20L4 18.59l7.72-7.72 1.47 1.35L5.41 20z\"/>\n",
              "  </svg>\n",
              "      </button>\n",
              "      \n",
              "  <style>\n",
              "    .colab-df-container {\n",
              "      display:flex;\n",
              "      flex-wrap:wrap;\n",
              "      gap: 12px;\n",
              "    }\n",
              "\n",
              "    .colab-df-convert {\n",
              "      background-color: #E8F0FE;\n",
              "      border: none;\n",
              "      border-radius: 50%;\n",
              "      cursor: pointer;\n",
              "      display: none;\n",
              "      fill: #1967D2;\n",
              "      height: 32px;\n",
              "      padding: 0 0 0 0;\n",
              "      width: 32px;\n",
              "    }\n",
              "\n",
              "    .colab-df-convert:hover {\n",
              "      background-color: #E2EBFA;\n",
              "      box-shadow: 0px 1px 2px rgba(60, 64, 67, 0.3), 0px 1px 3px 1px rgba(60, 64, 67, 0.15);\n",
              "      fill: #174EA6;\n",
              "    }\n",
              "\n",
              "    [theme=dark] .colab-df-convert {\n",
              "      background-color: #3B4455;\n",
              "      fill: #D2E3FC;\n",
              "    }\n",
              "\n",
              "    [theme=dark] .colab-df-convert:hover {\n",
              "      background-color: #434B5C;\n",
              "      box-shadow: 0px 1px 3px 1px rgba(0, 0, 0, 0.15);\n",
              "      filter: drop-shadow(0px 1px 2px rgba(0, 0, 0, 0.3));\n",
              "      fill: #FFFFFF;\n",
              "    }\n",
              "  </style>\n",
              "\n",
              "      <script>\n",
              "        const buttonEl =\n",
              "          document.querySelector('#df-3220da10-7558-46cb-88ca-3237bbeae929 button.colab-df-convert');\n",
              "        buttonEl.style.display =\n",
              "          google.colab.kernel.accessAllowed ? 'block' : 'none';\n",
              "\n",
              "        async function convertToInteractive(key) {\n",
              "          const element = document.querySelector('#df-3220da10-7558-46cb-88ca-3237bbeae929');\n",
              "          const dataTable =\n",
              "            await google.colab.kernel.invokeFunction('convertToInteractive',\n",
              "                                                     [key], {});\n",
              "          if (!dataTable) return;\n",
              "\n",
              "          const docLinkHtml = 'Like what you see? Visit the ' +\n",
              "            '<a target=\"_blank\" href=https://colab.research.google.com/notebooks/data_table.ipynb>data table notebook</a>'\n",
              "            + ' to learn more about interactive tables.';\n",
              "          element.innerHTML = '';\n",
              "          dataTable['output_type'] = 'display_data';\n",
              "          await google.colab.output.renderOutput(dataTable, element);\n",
              "          const docLink = document.createElement('div');\n",
              "          docLink.innerHTML = docLinkHtml;\n",
              "          element.appendChild(docLink);\n",
              "        }\n",
              "      </script>\n",
              "    </div>\n",
              "  </div>\n",
              "  "
            ],
            "text/plain": [
              "                       age  duration  campaign  ...  euribor3m  nr.employed     y\n",
              "education                                       ...                              \n",
              "basic               42.164   263.044     2.559  ...      3.730    5,172.014 0.087\n",
              "high.school         37.998   260.887     2.569  ...      3.556    5,164.995 0.108\n",
              "illiterate          48.500   276.778     2.278  ...      3.517    5,171.778 0.222\n",
              "professional.course 40.080   252.534     2.586  ...      3.710    5,170.156 0.113\n",
              "university.degree   38.879   253.223     2.564  ...      3.530    5,163.226 0.137\n",
              "unknown             43.481   262.391     2.596  ...      3.571    5,159.550 0.145\n",
              "\n",
              "[6 rows x 11 columns]"
            ]
          },
          "metadata": {},
          "execution_count": 35
        }
      ]
    },
    {
      "cell_type": "code",
      "source": [
        "# visualizando a distribuição da variável alvo em relação ao tipo de cargo laboral do cliente\n",
        "pd.crosstab(df['job'], df['y']).plot(kind='bar')\n",
        "\n",
        "plt.title('Frequência de compra por cargo\\n', \n",
        "           {'fontsize': 14,'fontweight': 'bold'})\n",
        "plt.xlabel('job')\n",
        "plt.ylabel('Frequência de compras')\n",
        "plt.savefig('freq_compra_cargo');"
      ],
      "metadata": {
        "id": "n-4zfe4zEcZR",
        "colab": {
          "base_uri": "https://localhost:8080/",
          "height": 387
        },
        "outputId": "7e4efa5a-166a-4853-b2b1-5239af01100c"
      },
      "execution_count": 36,
      "outputs": [
        {
          "output_type": "display_data",
          "data": {
            "image/png": "[encoded data removed]",
            "text/plain": [
              "<Figure size 432x288 with 1 Axes>"
            ]
          },
          "metadata": {}
        }
      ]
    },
    {
      "cell_type": "code",
      "source": [
        "# visualizando a distribuição da variável alvo em relação ao estado civil do cliente\n",
        "table = pd.crosstab(df['marital'], df['y'])\n",
        "\n",
        "table.div(table.sum(1).astype(float), axis=0).plot(kind='bar', stacked=True)\n",
        "plt.title('Frequência de compra por estado civil\\n',\n",
        "          {'fontsize': 14,'fontweight': 'bold'})\n",
        "plt.xlabel('Status conjugal')\n",
        "plt.ylabel('Proporção de clientes')\n",
        "plt.savefig('status_conj_prop_clientes')"
      ],
      "metadata": {
        "colab": {
          "base_uri": "https://localhost:8080/",
          "height": 359
        },
        "id": "DL8llttFPMR4",
        "outputId": "52b4a853-779b-4e9c-dcfb-cff46b12573b"
      },
      "execution_count": 37,
      "outputs": [
        {
          "output_type": "display_data",
          "data": {
            "image/png": "[encoded data removed]",
            "text/plain": [
              "<Figure size 432x288 with 1 Axes>"
            ]
          },
          "metadata": {}
        }
      ]
    },
    {
      "cell_type": "code",
      "source": [
        "# visualizando a distribuição da variável alvo em relação ao status educacional do cliente\n",
        "table = pd.crosstab(df['education'], df['y'])\n",
        "\n",
        "table.div(table.sum(1).astype(float), axis=0).plot(kind='bar', stacked=True)\n",
        "plt.title('Frequência de compra por nível de educação\\n',\n",
        "          {'fontsize': 14,'fontweight': 'bold'})\n",
        "plt.xlabel('Status de educação')\n",
        "plt.ylabel('Proporção de clientes')\n",
        "plt.savefig('status_educ_prop_clientes')"
      ],
      "metadata": {
        "colab": {
          "base_uri": "https://localhost:8080/",
          "height": 416
        },
        "id": "04COa_nzPMPB",
        "outputId": "1bb04825-91af-474f-e237-bd237bc89157"
      },
      "execution_count": 38,
      "outputs": [
        {
          "output_type": "display_data",
          "data": {
            "image/png": "[encoded data removed]",
            "text/plain": [
              "<Figure size 432x288 with 1 Axes>"
            ]
          },
          "metadata": {}
        }
      ]
    },
    {
      "cell_type": "code",
      "source": [
        "# visualizando a distribuição da variável alvo em relação ao dia da semana que foi realizado a contratação do serviço\n",
        "pd.crosstab(df['day_of_week'], df['y']).plot(kind='bar')\n",
        "\n",
        "plt.title('Frequência de compra por dia da semana\\n',\n",
        "          {'fontsize': 14,'fontweight': 'bold'})\n",
        "plt.xlabel('Dia da semana')\n",
        "plt.ylabel('Proporção de clientes')\n",
        "plt.savefig('dia_sem_prop_clientes')"
      ],
      "metadata": {
        "colab": {
          "base_uri": "https://localhost:8080/",
          "height": 333
        },
        "id": "dIuoflbzPMMX",
        "outputId": "1cad42c3-04d7-4cf3-8ba1-f647ba12b703"
      },
      "execution_count": 39,
      "outputs": [
        {
          "output_type": "display_data",
          "data": {
            "image/png": "[encoded data removed]",
            "text/plain": [
              "<Figure size 432x288 with 1 Axes>"
            ]
          },
          "metadata": {}
        }
      ]
    },
    {
      "cell_type": "code",
      "source": [
        "# visualizando a distribuição da variável alvo em relação ao mês de contratação do serviço\n",
        "pd.crosstab(df['month'], df['y']).plot(kind='bar')\n",
        "\n",
        "plt.title('Frequência de compra por mês\\n', \n",
        "          {'fontsize': 14,'fontweight': 'bold'})\n",
        "plt.xlabel('mês')\n",
        "plt.ylabel('Proporção de clientes')\n",
        "plt.savefig('mes_prop_clientes')"
      ],
      "metadata": {
        "colab": {
          "base_uri": "https://localhost:8080/",
          "height": 333
        },
        "id": "SyNZ7BtdPMJ5",
        "outputId": "06bb12e6-504f-49d3-b616-41059bd802ce"
      },
      "execution_count": 40,
      "outputs": [
        {
          "output_type": "display_data",
          "data": {
            "image/png": "[encoded data removed]",
            "text/plain": [
              "<Figure size 432x288 with 1 Axes>"
            ]
          },
          "metadata": {}
        }
      ]
    },
    {
      "cell_type": "code",
      "source": [
        "# visualizando a distribuição da variável \"age\" (idade)\n",
        "df['age'].hist(bins=30)\n",
        "\n",
        "plt.title('Histograma da idade\\n', \n",
        "          {'fontsize': 14,'fontweight': 'bold'})\n",
        "plt.xlabel('Idade')\n",
        "plt.ylabel('Frequência')\n",
        "plt.savefig('hist_idade')"
      ],
      "metadata": {
        "colab": {
          "base_uri": "https://localhost:8080/",
          "height": 318
        },
        "id": "nIeD71MlPMG3",
        "outputId": "27c489e9-6d43-4d81-e166-d8b1c787db36"
      },
      "execution_count": 42,
      "outputs": [
        {
          "output_type": "display_data",
          "data": {
            "image/png": "[encoded data removed]",
            "text/plain": [
              "<Figure size 432x288 with 1 Axes>"
            ]
          },
          "metadata": {}
        }
      ]
    },
    {
      "cell_type": "code",
      "source": [
        "# visualizando a distribuição da variável alvo em relação ao resultado da campanha\n",
        "pd.crosstab(df['poutcome'], df['y']).plot(kind='bar')\n",
        "\n",
        "plt.title('Frequência de compra por resultado da campanha\\n', \n",
        "          {'fontsize': 14,'fontweight': 'bold'})\n",
        "plt.xlabel('Resultado da campanha')\n",
        "plt.ylabel('Frequência')\n",
        "plt.savefig('res_freq_camp_bar')"
      ],
      "metadata": {
        "colab": {
          "base_uri": "https://localhost:8080/",
          "height": 374
        },
        "id": "smnbRD1cbTKU",
        "outputId": "b77bb8df-40f8-4ae3-9b96-1389035041bf"
      },
      "execution_count": 43,
      "outputs": [
        {
          "output_type": "display_data",
          "data": {
            "image/png": "[encoded data removed]",
            "text/plain": [
              "<Figure size 432x288 with 1 Axes>"
            ]
          },
          "metadata": {}
        }
      ]
    },
    {
      "cell_type": "markdown",
      "source": [
        "## **Engenharia de recursos**"
      ],
      "metadata": {
        "id": "bzBXbKJzcIe_"
      }
    },
    {
      "cell_type": "code",
      "source": [
        "# função para separar as colunas numéricas e categóricas do conjunto de dados\n",
        "def separate_cols(df):\n",
        "    cols_cats = []\n",
        "    cols_nums = []\n",
        "\n",
        "    for col in df.columns[:-1]: # excluindo a variável alvo  \n",
        "        if df.dtypes[col] == 'object':\n",
        "            cols_cats.append(col)\n",
        "        else:\n",
        "            cols_nums.append(col)\n",
        "    \n",
        "    return f'cols categ: {len(cols_cats), cols_cats}', f'cols nums: {len(cols_nums), cols_nums}'"
      ],
      "metadata": {
        "id": "s0-7vxforMra"
      },
      "execution_count": 44,
      "outputs": []
    },
    {
      "cell_type": "code",
      "source": [
        "# aplicando a função\n",
        "separate_cols(df)"
      ],
      "metadata": {
        "colab": {
          "base_uri": "https://localhost:8080/"
        },
        "id": "jOuoCgidrT3z",
        "outputId": "9f4dc242-fa48-402c-a32f-4ba334a07e65"
      },
      "execution_count": 45,
      "outputs": [
        {
          "output_type": "execute_result",
          "data": {
            "text/plain": [
              "(\"cols categ: (10, ['job', 'marital', 'education', 'default', 'housing', 'loan', 'contact', 'month', 'day_of_week', 'poutcome'])\",\n",
              " \"cols nums: (10, ['age', 'duration', 'campaign', 'pdays', 'previous', 'emp.var.rate', 'cons.price.idx', 'cons.conf.idx', 'euribor3m', 'nr.employed'])\")"
            ]
          },
          "metadata": {},
          "execution_count": 45
        }
      ]
    },
    {
      "cell_type": "code",
      "source": [
        "# instanciando as variáveis categóricas\n",
        "cat_vars = ['job', 'marital', 'education', 'default', 'housing', 'loan', \n",
        "            'contact', 'month', 'day_of_week', 'poutcome']"
      ],
      "metadata": {
        "id": "_yJsFDfur1Q0"
      },
      "execution_count": 46,
      "outputs": []
    },
    {
      "cell_type": "code",
      "source": [
        "# realizando o \"one hot\" nos atributos caregóricos e instanciando o resultado no objeto \"dummies\"\n",
        "dummies = pd.get_dummies(df[cat_vars])\n",
        "\n",
        "# concatenando o objeto \"dummies\" no conjunto de dados\n",
        "data = pd.concat([df, dummies], axis=1)\n",
        "\n",
        "data_vars = data.columns.values.tolist()\n",
        "\n",
        "to_keep = [i for i in data_vars if i not in cat_vars]"
      ],
      "metadata": {
        "id": "UavoqTB4rxIl"
      },
      "execution_count": 47,
      "outputs": []
    },
    {
      "cell_type": "code",
      "source": [
        "df_final = data[to_keep]\n",
        "df_final.columns.values"
      ],
      "metadata": {
        "colab": {
          "base_uri": "https://localhost:8080/"
        },
        "id": "5x8WBz2yuem2",
        "outputId": "358b2f14-c990-4e57-97ed-19e8ae540162"
      },
      "execution_count": 48,
      "outputs": [
        {
          "output_type": "execute_result",
          "data": {
            "text/plain": [
              "array(['age', 'duration', 'campaign', 'pdays', 'previous', 'emp.var.rate',\n",
              "       'cons.price.idx', 'cons.conf.idx', 'euribor3m', 'nr.employed', 'y',\n",
              "       'job_admin.', 'job_blue-collar', 'job_entrepreneur',\n",
              "       'job_housemaid', 'job_management', 'job_retired',\n",
              "       'job_self-employed', 'job_services', 'job_student',\n",
              "       'job_technician', 'job_unemployed', 'job_unknown',\n",
              "       'marital_divorced', 'marital_married', 'marital_single',\n",
              "       'marital_unknown', 'education_basic', 'education_high.school',\n",
              "       'education_illiterate', 'education_professional.course',\n",
              "       'education_university.degree', 'education_unknown', 'default_no',\n",
              "       'default_unknown', 'default_yes', 'housing_no', 'housing_unknown',\n",
              "       'housing_yes', 'loan_no', 'loan_unknown', 'loan_yes',\n",
              "       'contact_cellular', 'contact_telephone', 'month_apr', 'month_aug',\n",
              "       'month_dec', 'month_jul', 'month_jun', 'month_mar', 'month_may',\n",
              "       'month_nov', 'month_oct', 'month_sep', 'day_of_week_fri',\n",
              "       'day_of_week_mon', 'day_of_week_thu', 'day_of_week_tue',\n",
              "       'day_of_week_wed', 'poutcome_failure', 'poutcome_nonexistent',\n",
              "       'poutcome_success'], dtype=object)"
            ]
          },
          "metadata": {},
          "execution_count": 48
        }
      ]
    },
    {
      "cell_type": "code",
      "source": [
        "# total de atributos após aplicado a função \".get_dummies()\"\n",
        "len(df_final.columns)"
      ],
      "metadata": {
        "colab": {
          "base_uri": "https://localhost:8080/"
        },
        "id": "59BpqDVbqkRf",
        "outputId": "d3d2d7d1-618d-483b-c37b-e56a8b4cef57"
      },
      "execution_count": 49,
      "outputs": [
        {
          "output_type": "execute_result",
          "data": {
            "text/plain": [
              "62"
            ]
          },
          "metadata": {},
          "execution_count": 49
        }
      ]
    },
    {
      "cell_type": "code",
      "source": [
        "# cat_vars = ['job', 'marital', 'education', 'default', 'housing', 'loan', \n",
        "#             'contact', 'month', 'day_of_week', 'poutcome']\n",
        "\n",
        "# for var in cat_vars:\n",
        "#     cat_list = 'var' + '_' + var\n",
        "#     cat_list = pd.get_dummies(df[var], prefix=var)\n",
        "#     data1 = df.join(cat_list)\n",
        "#     data = data1\n",
        "\n",
        "# cat_vars = ['job', 'marital', 'education', 'default', 'housing', 'loan', \n",
        "#             'contact', 'month', 'day_of_week', 'poutcome']\n",
        "\n",
        "# data_vars = data.columns.values.tolist()\n",
        "\n",
        "# to_keep = [i for i in data_vars if i not in cat_vars]"
      ],
      "metadata": {
        "id": "fzjhw3vLbTHT"
      },
      "execution_count": 50,
      "outputs": []
    },
    {
      "cell_type": "code",
      "source": [
        "# data_final = data[to_keep]\n",
        "# data_final.columns.values"
      ],
      "metadata": {
        "id": "zPobAXLHbTEm"
      },
      "execution_count": 51,
      "outputs": []
    },
    {
      "cell_type": "code",
      "source": [
        "# instanciando as variáveis explicativas e a resposta\n",
        "X = df_final.loc[:, df_final.columns != 'y']\n",
        "y = df_final.loc[:, df_final.columns == 'y']"
      ],
      "metadata": {
        "id": "-J2dVRr5bTBu"
      },
      "execution_count": 52,
      "outputs": []
    },
    {
      "cell_type": "markdown",
      "source": [
        "Com nossos dados de treinamento criados, irei fazer um _up-sample_ da não-assinatura usando o algoritmo `SMOTE (Synthetic Minority Oversampling Technique)`. Em um alto nível, **SMOTE**:\n",
        "\n",
        "- Funciona criando amostras sintéticas da classe secundária (sem assinatura) em vez de criar cópias.\n",
        "- Escolher aleatoriamente um dos k-vizinhos mais próximos e usá-lo para criar novas observações semelhantes, mas ajustadas aleatoriamente."
      ],
      "metadata": {
        "id": "diwLykL6dDWZ"
      }
    },
    {
      "cell_type": "code",
      "source": [
        "# importando a função\n",
        "from imblearn.over_sampling import SMOTE\n",
        "\n",
        "# instanciando a função no objeto \"SMOTE\"\n",
        "SMOTE = SMOTE(random_state=42)"
      ],
      "metadata": {
        "id": "F_Vj04KxbS-_"
      },
      "execution_count": 53,
      "outputs": []
    },
    {
      "cell_type": "code",
      "source": [
        "# importando a função para particionamento dos dados\n",
        "from sklearn.model_selection import train_test_split"
      ],
      "metadata": {
        "id": "o2Wqd9FKdUcv"
      },
      "execution_count": 54,
      "outputs": []
    },
    {
      "cell_type": "code",
      "source": [
        "# separando os dados em treino e teste\n",
        "Xtrain, Xtest, ytrain, ytest = train_test_split(X, y, \n",
        "                                                test_size=0.3, # reservando 30% para teste\n",
        "                                                random_state=42)\n",
        "\n",
        "# instanciando as colunas de interesse\n",
        "columns = Xtrain.columns"
      ],
      "metadata": {
        "id": "E9CCXO6YdUZz"
      },
      "execution_count": 55,
      "outputs": []
    },
    {
      "cell_type": "code",
      "source": [
        "# aplicando o redimensionamento da distribuição dos dados\n",
        "SMOTE_data_X, SMOTE_data_y = SMOTE.fit_resample(Xtrain, ytrain)\n",
        "\n",
        "SMOTE_data_X = pd.DataFrame(data=SMOTE_data_X, columns=columns )\n",
        "os_data_y = pd.DataFrame(data=SMOTE_data_y, columns=['y'])"
      ],
      "metadata": {
        "id": "D5YyoGsJdUXA"
      },
      "execution_count": 56,
      "outputs": []
    },
    {
      "cell_type": "code",
      "source": [
        "# visualizando o resultado do balanceamento dos dados\n",
        "print('Comprimento de dados sobreamostrados é:', len(SMOTE_data_X))\n",
        "print('Número de nenhuma assinatura em dados sobreamostrados:', len(SMOTE_data_y[SMOTE_data_y['y'] == 0]))\n",
        "print('Número de assinatura:', len(SMOTE_data_y[SMOTE_data_y['y'] == 1]))\n",
        "print('Proporção de dados sem assinatura em dados sobreamostrados é:', len(SMOTE_data_y[SMOTE_data_y['y'] == 0]) / len(SMOTE_data_X))\n",
        "print('Proporção de dados de assinatura em dados sobreamostrados é:', len(SMOTE_data_y[SMOTE_data_y['y']  ==1]) / len(SMOTE_data_X))"
      ],
      "metadata": {
        "colab": {
          "base_uri": "https://localhost:8080/"
        },
        "id": "J-7qtT-edUR5",
        "outputId": "2e6840c1-fbc2-46ac-cd7c-8593c7622138"
      },
      "execution_count": 57,
      "outputs": [
        {
          "output_type": "stream",
          "name": "stdout",
          "text": [
            "Comprimento de dados sobreamostrados é: 51160\n",
            "Número de nenhuma assinatura em dados sobreamostrados: 25580\n",
            "Número de assinatura: 25580\n",
            "Proporção de dados sem assinatura em dados sobreamostrados é: 0.5\n",
            "Proporção de dados de assinatura em dados sobreamostrados é: 0.5\n"
          ]
        }
      ]
    },
    {
      "cell_type": "markdown",
      "source": [
        "> Podemos notar que houve um balanceamentto dos dados."
      ],
      "metadata": {
        "id": "O2C0UlmOKgp9"
      }
    },
    {
      "cell_type": "markdown",
      "source": [
        "## **Eliminação de recurso**\n",
        "\n",
        "Para aplicção da técnica de _Eliminação de Recurso_, utilizamos a função  `RFE (Recursive Feature)` do **scikit-learn**, e sua principal função é baseada na ideia de construir repetidamente um modelo e escolher o melhor ou o pior recurso, deixando o recurso de lado e então repetindo o processo com o resto dos recursos.<br>Este processo é aplicado até que todos os recursos do conjunto de dados sejam exauridos. O objetivo do RFE é selecionar recursos considerando recursivamente conjuntos cada vez menores de recursos."
      ],
      "metadata": {
        "id": "MNBHBk_YitM3"
      }
    },
    {
      "cell_type": "code",
      "source": [
        "# importando a função para aplicação da regressão logística\n",
        "from sklearn.linear_model import LogisticRegression\n",
        "\n",
        "# importando a função para eliminação de recursos\n",
        "from sklearn.feature_selection import RFE"
      ],
      "metadata": {
        "id": "pb__wzsVdUO4"
      },
      "execution_count": 58,
      "outputs": []
    },
    {
      "cell_type": "code",
      "source": [
        "# instanciando cada função em um objeto próprio\n",
        "logreg = LogisticRegression()\n",
        "rfe = RFE(estimator=logreg, n_features_to_select=20) # aqui estamos definindo que o número máximo de features será de 20"
      ],
      "metadata": {
        "id": "B2BJBchCeLe_"
      },
      "execution_count": 59,
      "outputs": []
    },
    {
      "cell_type": "code",
      "source": [
        "# instanciando os atributos no objeto \"data_final_vars\"\n",
        "data_final_vars = df_final.columns.values.tolist()\n",
        "\n",
        "# instanciando a variável resposta e as explicativas\n",
        "y = ['y']   \n",
        "X = [i for i in data_final_vars if i not in y]"
      ],
      "metadata": {
        "id": "E-QwQXbeeLcG"
      },
      "execution_count": 60,
      "outputs": []
    },
    {
      "cell_type": "code",
      "source": [
        "# aplicando a função para classificação dos recursos\n",
        "rfe = rfe.fit(SMOTE_data_X, SMOTE_data_y.values.ravel())\n",
        "\n",
        "# visualizando os resultados\n",
        "print(rfe.support_)\n",
        "print(rfe.ranking_)"
      ],
      "metadata": {
        "colab": {
          "base_uri": "https://localhost:8080/"
        },
        "id": "r3hcQ3eQeLZ-",
        "outputId": "ec3e6d5d-f0cc-4736-efff-f8bf6d1eb2a1"
      },
      "execution_count": 61,
      "outputs": [
        {
          "output_type": "stream",
          "name": "stdout",
          "text": [
            "[False False False False False False False False False False False  True\n",
            "  True  True False False False  True False False False False False False\n",
            " False False  True  True False  True  True  True False False False  True\n",
            "  True  True  True  True  True False False False False False False False\n",
            " False False False False False  True  True  True  True  True False False\n",
            " False]\n",
            "[36 35 30 37 32 33 28 31 25 34  6  1  1  1  4  8  3  1  9  5  7  2 14 15\n",
            " 16 40  1  1 41  1  1  1 11 10 42  1  1  1  1  1  1 38 26 22 19 24 20 21\n",
            " 27 17 18 39 23  1  1  1  1  1 13 12 29]\n"
          ]
        }
      ]
    },
    {
      "cell_type": "code",
      "source": [
        "# nomes dos atributos\n",
        "SMOTE_data_X.columns"
      ],
      "metadata": {
        "colab": {
          "base_uri": "https://localhost:8080/"
        },
        "id": "wDIeaUfkndM9",
        "outputId": "27a63bc7-88c4-45d0-df82-1e9212e534ba"
      },
      "execution_count": null,
      "outputs": [
        {
          "output_type": "execute_result",
          "data": {
            "text/plain": [
              "Index(['age', 'duration', 'campaign', 'pdays', 'previous', 'emp.var.rate',\n",
              "       'cons.price.idx', 'cons.conf.idx', 'euribor3m', 'nr.employed',\n",
              "       'job_admin.', 'job_blue-collar', 'job_entrepreneur', 'job_housemaid',\n",
              "       'job_management', 'job_retired', 'job_self-employed', 'job_services',\n",
              "       'job_student', 'job_technician', 'job_unemployed', 'job_unknown',\n",
              "       'marital_divorced', 'marital_married', 'marital_single',\n",
              "       'marital_unknown', 'education_basic', 'education_high.school',\n",
              "       'education_illiterate', 'education_professional.course',\n",
              "       'education_university.degree', 'education_unknown', 'default_no',\n",
              "       'default_unknown', 'default_yes', 'housing_no', 'housing_unknown',\n",
              "       'housing_yes', 'loan_no', 'loan_unknown', 'loan_yes',\n",
              "       'contact_cellular', 'contact_telephone', 'month_apr', 'month_aug',\n",
              "       'month_dec', 'month_jul', 'month_jun', 'month_mar', 'month_may',\n",
              "       'month_nov', 'month_oct', 'month_sep', 'day_of_week_fri',\n",
              "       'day_of_week_mon', 'day_of_week_thu', 'day_of_week_tue',\n",
              "       'day_of_week_wed', 'poutcome_failure', 'poutcome_nonexistent',\n",
              "       'poutcome_success'],\n",
              "      dtype='object')"
            ]
          },
          "metadata": {},
          "execution_count": 79
        }
      ]
    },
    {
      "cell_type": "code",
      "source": [
        "cols =['euribor3m', 'job_blue-collar', 'job_housemaid', 'marital_unknown', 'education_illiterate', 'default_no', 'default_unknown', \n",
        "      'contact_cellular', 'contact_telephone', 'month_apr', 'month_aug', 'month_dec', 'month_jul', 'month_jun', 'month_mar', \n",
        "      'month_may', 'month_nov', 'month_oct', 'poutcome_failure', 'poutcome_success'] \n",
        "\n",
        "X = SMOTE_data_X[cols]\n",
        "y = SMOTE_data_y['y']"
      ],
      "metadata": {
        "id": "fT1lfsD4eLXS"
      },
      "execution_count": 62,
      "outputs": []
    },
    {
      "cell_type": "code",
      "source": [
        "import statsmodels.api as sm"
      ],
      "metadata": {
        "id": "6wZ4uEBgn3le"
      },
      "execution_count": 63,
      "outputs": []
    },
    {
      "cell_type": "code",
      "source": [
        "print(\n",
        "    np.asarray(X), \n",
        "    np.asarray(y),\n",
        "    sep='\\n\\n'\n",
        ")"
      ],
      "metadata": {
        "colab": {
          "base_uri": "https://localhost:8080/"
        },
        "id": "0RddbnotoVaP",
        "outputId": "98cfc0a1-2fb9-43dd-ce7c-6c106db22670"
      },
      "execution_count": 64,
      "outputs": [
        {
          "output_type": "stream",
          "name": "stdout",
          "text": [
            "[[0.709      0.         0.         ... 0.         1.         0.        ]\n",
            " [1.25       0.         0.         ... 0.         0.         0.        ]\n",
            " [4.86       1.         0.         ... 0.         0.         0.        ]\n",
            " ...\n",
            " [1.3623101  0.         0.         ... 0.         0.         1.        ]\n",
            " [4.96273455 0.         0.         ... 0.         0.         0.        ]\n",
            " [1.27410544 0.         0.         ... 0.         0.         0.        ]]\n",
            "\n",
            "[0 0 0 ... 1 1 1]\n"
          ]
        }
      ]
    },
    {
      "cell_type": "code",
      "source": [
        "logit_model = sm.Logit(y, X)\n",
        "\n",
        "result = logit_model.fit()\n",
        "print(result.summary2())"
      ],
      "metadata": {
        "colab": {
          "base_uri": "https://localhost:8080/"
        },
        "id": "UDmb-nw_kPz7",
        "outputId": "3b56b7ae-e60b-4c42-e014-ba6876612264"
      },
      "execution_count": 65,
      "outputs": [
        {
          "output_type": "stream",
          "name": "stdout",
          "text": [
            "Optimization terminated successfully.\n",
            "         Current function value: 0.449544\n",
            "         Iterations 7\n",
            "                           Results: Logit\n",
            "=====================================================================\n",
            "Model:                Logit             Pseudo R-squared:  0.351     \n",
            "Dependent Variable:   y                 AIC:               46037.3788\n",
            "Date:                 2021-12-23 19:02  BIC:               46214.2330\n",
            "No. Observations:     51160             Log-Likelihood:    -22999.   \n",
            "Df Model:             19                LL-Null:           -35461.   \n",
            "Df Residuals:         51140             LLR p-value:       0.0000    \n",
            "Converged:            1.0000            Scale:             1.0000    \n",
            "No. Iterations:       7.0000                                         \n",
            "---------------------------------------------------------------------\n",
            "                      Coef.  Std.Err.    z     P>|z|   [0.025  0.975]\n",
            "---------------------------------------------------------------------\n",
            "euribor3m             0.1245   0.0080  15.5754 0.0000  0.1089  0.1402\n",
            "job_blue-collar      -0.9957   0.0388 -25.6707 0.0000 -1.0717 -0.9197\n",
            "job_housemaid        -1.6226   0.1364 -11.8969 0.0000 -1.8899 -1.3553\n",
            "marital_unknown      -1.1887   0.4593  -2.5881 0.0097 -2.0889 -0.2885\n",
            "education_illiterate  0.0258   0.7773   0.0331 0.9736 -1.4977  1.5492\n",
            "default_no            0.9395   0.0384  24.4475 0.0000  0.8642  1.0149\n",
            "default_unknown      -0.2892   0.0582  -4.9685 0.0000 -0.4033 -0.1751\n",
            "contact_cellular      1.4365   0.0439  32.7230 0.0000  1.3505  1.5225\n",
            "contact_telephone    -0.5202   0.0581  -8.9541 0.0000 -0.6341 -0.4064\n",
            "month_apr            -2.0957   0.0537 -39.0248 0.0000 -2.2009 -1.9904\n",
            "month_aug            -3.4897   0.0514 -67.8659 0.0000 -3.5905 -3.3889\n",
            "month_dec            -1.5947   0.1710  -9.3242 0.0000 -1.9300 -1.2595\n",
            "month_jul            -3.2883   0.0514 -63.9838 0.0000 -3.3890 -3.1876\n",
            "month_jun            -2.0587   0.0536 -38.3776 0.0000 -2.1638 -1.9535\n",
            "month_mar            -1.2007   0.0950 -12.6339 0.0000 -1.3870 -1.0144\n",
            "month_may            -2.5503   0.0440 -57.9260 0.0000 -2.6365 -2.4640\n",
            "month_nov            -3.5292   0.0572 -61.6746 0.0000 -3.6413 -3.4170\n",
            "month_oct            -0.9837   0.0852 -11.5426 0.0000 -1.1508 -0.8167\n",
            "poutcome_failure     -1.0144   0.0473 -21.4441 0.0000 -1.1072 -0.9217\n",
            "poutcome_success      2.4094   0.0676  35.6291 0.0000  2.2769  2.5419\n",
            "=====================================================================\n",
            "\n"
          ]
        }
      ]
    },
    {
      "cell_type": "code",
      "source": [
        "cols = ['euribor3m', 'job_blue-collar', 'job_housemaid', 'marital_unknown', 'education_illiterate', \n",
        "      'month_apr', 'month_aug', 'month_dec', 'month_jul', 'month_jun', 'month_mar', \n",
        "      'month_may', 'month_nov', 'month_oct', \"poutcome_failure\", \"poutcome_success\"] \n",
        "\n",
        "X = SMOTE_data_X[cols]\n",
        "y = SMOTE_data_y['y']\n",
        "\n",
        "logit_model = sm.Logit(y,X)\n",
        "result = logit_model.fit()\n",
        "\n",
        "print(result.summary2())"
      ],
      "metadata": {
        "colab": {
          "base_uri": "https://localhost:8080/"
        },
        "id": "RmkAJn2tkPwf",
        "outputId": "9a7aff54-4857-4e52-f0be-e835e2ef2523"
      },
      "execution_count": 66,
      "outputs": [
        {
          "output_type": "stream",
          "name": "stdout",
          "text": [
            "Optimization terminated successfully.\n",
            "         Current function value: 0.546808\n",
            "         Iterations 7\n",
            "                           Results: Logit\n",
            "=====================================================================\n",
            "Model:                Logit             Pseudo R-squared:  0.211     \n",
            "Dependent Variable:   y                 AIC:               55981.3721\n",
            "Date:                 2021-12-23 19:03  BIC:               56122.8555\n",
            "No. Observations:     51160             Log-Likelihood:    -27975.   \n",
            "Df Model:             15                LL-Null:           -35461.   \n",
            "Df Residuals:         51144             LLR p-value:       0.0000    \n",
            "Converged:            1.0000            Scale:             1.0000    \n",
            "No. Iterations:       7.0000                                         \n",
            "---------------------------------------------------------------------\n",
            "                      Coef.  Std.Err.    z     P>|z|   [0.025  0.975]\n",
            "---------------------------------------------------------------------\n",
            "euribor3m             0.1548   0.0055  28.3797 0.0000  0.1441  0.1655\n",
            "job_blue-collar      -1.0696   0.0362 -29.5588 0.0000 -1.1406 -0.9987\n",
            "job_housemaid        -1.7439   0.1309 -13.3176 0.0000 -2.0006 -1.4873\n",
            "marital_unknown      -1.1944   0.4465  -2.6753 0.0075 -2.0695 -0.3194\n",
            "education_illiterate -0.1072   0.7903  -0.1356 0.8921 -1.6561  1.4417\n",
            "month_apr            -0.1255   0.0403  -3.1166 0.0018 -0.2045 -0.0466\n",
            "month_aug            -1.5431   0.0385 -40.0892 0.0000 -1.6186 -1.4677\n",
            "month_dec             0.1584   0.1599   0.9911 0.3216 -0.1549  0.4718\n",
            "month_jul            -1.4811   0.0382 -38.7720 0.0000 -1.5560 -1.4063\n",
            "month_jun            -1.3196   0.0394 -33.4580 0.0000 -1.3969 -1.2423\n",
            "month_mar             0.7304   0.0859   8.5017 0.0000  0.5620  0.8987\n",
            "month_may            -1.5242   0.0302 -50.4624 0.0000 -1.5834 -1.4650\n",
            "month_nov            -1.6853   0.0471 -35.7573 0.0000 -1.7777 -1.5930\n",
            "month_oct             0.5317   0.0743   7.1564 0.0000  0.3861  0.6773\n",
            "poutcome_failure     -0.0986   0.0429  -2.2964 0.0217 -0.1827 -0.0144\n",
            "poutcome_success      3.1838   0.0608  52.3834 0.0000  3.0647  3.3029\n",
            "=====================================================================\n",
            "\n"
          ]
        }
      ]
    },
    {
      "cell_type": "code",
      "source": [
        "from sklearn.linear_model import LogisticRegression\n",
        "from sklearn import metrics"
      ],
      "metadata": {
        "id": "4FZuMZ5nkPub"
      },
      "execution_count": 67,
      "outputs": []
    },
    {
      "cell_type": "code",
      "source": [
        "Xtrain, Xtest, ytrain, ytest = train_test_split(X, y, \n",
        "                                                test_size=0.3,\n",
        "                                                random_state=42)\n",
        "\n",
        "logreg = LogisticRegression()\n",
        "logreg.fit(Xtrain, ytrain)"
      ],
      "metadata": {
        "colab": {
          "base_uri": "https://localhost:8080/"
        },
        "id": "_mROb3_IkPr7",
        "outputId": "8a5bb6bd-555f-464e-8324-5fcd4d5c06ed"
      },
      "execution_count": 68,
      "outputs": [
        {
          "output_type": "execute_result",
          "data": {
            "text/plain": [
              "LogisticRegression()"
            ]
          },
          "metadata": {},
          "execution_count": 68
        }
      ]
    },
    {
      "cell_type": "code",
      "source": [
        "y_pred = logreg.predict(Xtest)\n",
        "\n",
        "print('Precisão do classificador de regressão logística no conjunto de teste: {:.2f}'.format(logreg.score(Xtest, ytest)))"
      ],
      "metadata": {
        "colab": {
          "base_uri": "https://localhost:8080/"
        },
        "id": "e8ohYoE1kPpT",
        "outputId": "b2d76f6f-ed2f-4564-c7c9-71e722ca2f9b"
      },
      "execution_count": 69,
      "outputs": [
        {
          "output_type": "stream",
          "name": "stdout",
          "text": [
            "Precisão do classificador de regressão logística no conjunto de teste: 0.84\n"
          ]
        }
      ]
    },
    {
      "cell_type": "code",
      "source": [
        "from sklearn.metrics import confusion_matrix, classification_report"
      ],
      "metadata": {
        "id": "vxlAspP-kPl3"
      },
      "execution_count": 70,
      "outputs": []
    },
    {
      "cell_type": "code",
      "source": [
        "confusion_matrix = confusion_matrix(ytest, y_pred)\n",
        "print(confusion_matrix)"
      ],
      "metadata": {
        "colab": {
          "base_uri": "https://localhost:8080/"
        },
        "id": "nz49DXJ6kPi_",
        "outputId": "1da9f50a-e287-47c7-e1b8-387be403094d"
      },
      "execution_count": 71,
      "outputs": [
        {
          "output_type": "stream",
          "name": "stdout",
          "text": [
            "[[6996  657]\n",
            " [1763 5932]]\n"
          ]
        }
      ]
    },
    {
      "cell_type": "markdown",
      "source": [
        "> O resultado está nos dizendo que temos 6996 + 5932 previsões corretas e 1763 + 657 previsões incorretas."
      ],
      "metadata": {
        "id": "ntWfeqOJwAWp"
      }
    },
    {
      "cell_type": "code",
      "source": [
        "print(classification_report(ytest, y_pred))"
      ],
      "metadata": {
        "colab": {
          "base_uri": "https://localhost:8080/"
        },
        "id": "nYwAtkBVw2tU",
        "outputId": "458e1507-2326-4642-d708-af56b6e283da"
      },
      "execution_count": 72,
      "outputs": [
        {
          "output_type": "stream",
          "name": "stdout",
          "text": [
            "              precision    recall  f1-score   support\n",
            "\n",
            "           0       0.80      0.91      0.85      7653\n",
            "           1       0.90      0.77      0.83      7695\n",
            "\n",
            "    accuracy                           0.84     15348\n",
            "   macro avg       0.85      0.84      0.84     15348\n",
            "weighted avg       0.85      0.84      0.84     15348\n",
            "\n"
          ]
        }
      ]
    },
    {
      "cell_type": "markdown",
      "source": [
        "**Precisão de cálculo, recall, medida F e suporte**\n",
        "\n",
        "Conforme a documentação do Scikit-Learn:\n",
        "\n",
        "- A precisão é a razão tp / (tp + fp) onde tp é o número de verdadeiros positivos e fp o número de falsos positivos. A precisão é intuitivamente a capacidade do classificador de não rotular uma amostra como positiva se ela for negativa.\n",
        "\n",
        "- A rechamada é a razão tp / (tp + fn) onde tp é o número de verdadeiros positivos e fn o número de falsos negativos. O recall é intuitivamente a capacidade do classificador de encontrar todas as amostras positivas.\n",
        "\n",
        "A pontuação F-beta pode ser interpretada como uma média harmônica ponderada de precisão e recall, onde uma pontuação F-beta atinge seu melhor valor em 1 e a pior pontuação em 0.\n",
        "\n",
        "A pontuação F-beta pondera o recall mais do que a precisão por um fator de beta. beta = 1,0 significa que o recall e a precisão são igualmente importantes.\n",
        "\n",
        "O suporte é o número de ocorrências de cada classe em ytest.\n"
      ],
      "metadata": {
        "id": "yHtJTsigwQ7a"
      }
    },
    {
      "cell_type": "markdown",
      "source": [
        "## **Curva ROC**"
      ],
      "metadata": {
        "id": "ZE3wceuCyp5z"
      }
    },
    {
      "cell_type": "code",
      "source": [
        "from sklearn.metrics import roc_auc_score\n",
        "from sklearn.metrics import roc_curve"
      ],
      "metadata": {
        "id": "d4PU-71Qv5uf"
      },
      "execution_count": 73,
      "outputs": []
    },
    {
      "cell_type": "code",
      "source": [
        "logit_roc_auc = roc_auc_score(ytest, logreg.predict(Xtest))\n",
        "fpr, tpr, thresholds = roc_curve(ytest, logreg.predict_proba(Xtest)[:,1])\n",
        "# plt.figure()\n",
        "plt.figure(figsize = (10,8))\n",
        "plt.plot(fpr, tpr, label='Logistic Regression (area = %0.2f)' % logit_roc_auc)\n",
        "plt.plot([0, 1], [0, 1],'r--')\n",
        "plt.xlim([0.0, 1.0])\n",
        "plt.ylim([0.0, 1.05])\n",
        "plt.xlabel('False Positive Rate')\n",
        "plt.ylabel('True Positive Rate')\n",
        "plt.title('Receiver operating characteristic')\n",
        "plt.legend(loc='lower right')\n",
        "plt.savefig('Log_ROC')\n",
        "plt.show();"
      ],
      "metadata": {
        "colab": {
          "base_uri": "https://localhost:8080/",
          "height": 518
        },
        "id": "qWbuUo3Sv5rk",
        "outputId": "0e1e2aca-dc9c-41f2-ee6d-566ab843746d"
      },
      "execution_count": 74,
      "outputs": [
        {
          "output_type": "display_data",
          "data": {
            "image/png": "[encoded data removed]",
            "text/plain": [
              "<Figure size 720x576 with 1 Axes>"
            ]
          },
          "metadata": {}
        }
      ]
    },
    {
      "cell_type": "code",
      "source": [
        ""
      ],
      "metadata": {
        "id": "WDGbl2QRv5pP"
      },
      "execution_count": null,
      "outputs": []
    },
    {
      "cell_type": "code",
      "source": [
        ""
      ],
      "metadata": {
        "id": "11LmrM0-zBUI"
      },
      "execution_count": null,
      "outputs": []
    },
    {
      "cell_type": "code",
      "source": [
        ""
      ],
      "metadata": {
        "id": "4_6GB83yzBOj"
      },
      "execution_count": null,
      "outputs": []
    }
  ]
}